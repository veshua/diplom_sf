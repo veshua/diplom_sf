{
 "cells": [
  {
   "attachments": {},
   "cell_type": "markdown",
   "metadata": {},
   "source": [
    "# Модель прогнозирования стоимости жилья для агентства недвижимости - ДОПОЛНИТЕЛЬНОЕ ИССЛЕДОВАНИЕ\n",
    "\n",
    "Это дополнительная ветка исследования, где проверялась гипотеза о том, что плохие результаты на полном наборе данных связаны со слишком большим разбросом в данных, в частности:\n",
    "- слишком длинный правый хвост в распределении целевой переменной, который я обрезал на уровне 1 млн. долларов;\n",
    "- слишком длинный левый хвост в распределении признака года постройки, который я обрезал на уровне 1900 года.\n",
    "\n",
    "Т.е. из всего очищенного датасета были исключены записи со стоимостью дороже 1 млн. долларов и старее 1900 года постройки."
   ]
  },
  {
   "cell_type": "code",
   "execution_count": 19,
   "metadata": {},
   "outputs": [],
   "source": [
    "import numpy as np\n",
    "import pandas as pd\n",
    "import matplotlib.pyplot as plt\n",
    "import seaborn as sns\n",
    "import plotly.express as px\n",
    "import plotly.graph_objects as go\n",
    "import xgboost as xgb\n",
    "\n",
    "from sklearn import linear_model\n",
    "from sklearn import preprocessing\n",
    "from sklearn import model_selection\n",
    "from sklearn import tree\n",
    "from sklearn import ensemble\n",
    "from sklearn import metrics\n",
    "from sklearn import feature_selection\n",
    "from sklearn.linear_model import LinearRegression\n",
    "from sklearn.ensemble import AdaBoostRegressor\n",
    "from sklearn.ensemble import GradientBoostingRegressor\n",
    "from sklearn.ensemble import StackingRegressor\n",
    "from sklearn.linear_model import RidgeCV\n",
    "from catboost import CatBoostRegressor\n",
    "from ydata_profiling import ProfileReport\n",
    "from sklearn.model_selection import GridSearchCV\n",
    "from sklearn.model_selection import RandomizedSearchCV\n",
    "\n",
    "import warnings\n",
    "warnings.filterwarnings('ignore')\n",
    "\n",
    "%matplotlib inline"
   ]
  },
  {
   "cell_type": "code",
   "execution_count": 20,
   "metadata": {},
   "outputs": [
    {
     "data": {
      "text/html": [
       "<div>\n",
       "<style scoped>\n",
       "    .dataframe tbody tr th:only-of-type {\n",
       "        vertical-align: middle;\n",
       "    }\n",
       "\n",
       "    .dataframe tbody tr th {\n",
       "        vertical-align: top;\n",
       "    }\n",
       "\n",
       "    .dataframe thead th {\n",
       "        text-align: right;\n",
       "    }\n",
       "</style>\n",
       "<table border=\"1\" class=\"dataframe\">\n",
       "  <thead>\n",
       "    <tr style=\"text-align: right;\">\n",
       "      <th></th>\n",
       "      <th>status</th>\n",
       "      <th>propertyType</th>\n",
       "      <th>baths</th>\n",
       "      <th>fireplace</th>\n",
       "      <th>sqft</th>\n",
       "      <th>beds</th>\n",
       "      <th>stories</th>\n",
       "      <th>target</th>\n",
       "      <th>ZIP</th>\n",
       "      <th>LAT</th>\n",
       "      <th>...</th>\n",
       "      <th>heating</th>\n",
       "      <th>cooling</th>\n",
       "      <th>parking</th>\n",
       "      <th>lotsize</th>\n",
       "      <th>remodeling</th>\n",
       "      <th>lotsize_was_null</th>\n",
       "      <th>mean_school_rating</th>\n",
       "      <th>mean_school_distance</th>\n",
       "      <th>schools_count</th>\n",
       "      <th>beds_was_null</th>\n",
       "    </tr>\n",
       "  </thead>\n",
       "  <tbody>\n",
       "    <tr>\n",
       "      <th>0</th>\n",
       "      <td>active</td>\n",
       "      <td>single-family</td>\n",
       "      <td>3.5</td>\n",
       "      <td>1</td>\n",
       "      <td>2900.0</td>\n",
       "      <td>4.0</td>\n",
       "      <td>1.0</td>\n",
       "      <td>418000.0</td>\n",
       "      <td>28387</td>\n",
       "      <td>35.179251</td>\n",
       "      <td>...</td>\n",
       "      <td>central</td>\n",
       "      <td>no data</td>\n",
       "      <td>no data</td>\n",
       "      <td>8276.0</td>\n",
       "      <td>0</td>\n",
       "      <td>1</td>\n",
       "      <td>5.2</td>\n",
       "      <td>5.5</td>\n",
       "      <td>8.0</td>\n",
       "      <td>0</td>\n",
       "    </tr>\n",
       "    <tr>\n",
       "      <th>1</th>\n",
       "      <td>for sale</td>\n",
       "      <td>single-family</td>\n",
       "      <td>3.0</td>\n",
       "      <td>0</td>\n",
       "      <td>1947.0</td>\n",
       "      <td>3.0</td>\n",
       "      <td>2.0</td>\n",
       "      <td>310000.0</td>\n",
       "      <td>99216</td>\n",
       "      <td>47.686363</td>\n",
       "      <td>...</td>\n",
       "      <td>no data</td>\n",
       "      <td>no data</td>\n",
       "      <td>no data</td>\n",
       "      <td>5828.0</td>\n",
       "      <td>0</td>\n",
       "      <td>0</td>\n",
       "      <td>4.0</td>\n",
       "      <td>1.3</td>\n",
       "      <td>3.0</td>\n",
       "      <td>0</td>\n",
       "    </tr>\n",
       "    <tr>\n",
       "      <th>2</th>\n",
       "      <td>for sale</td>\n",
       "      <td>single-family</td>\n",
       "      <td>8.0</td>\n",
       "      <td>1</td>\n",
       "      <td>6457.0</td>\n",
       "      <td>5.0</td>\n",
       "      <td>3.0</td>\n",
       "      <td>2395000.0</td>\n",
       "      <td>75205</td>\n",
       "      <td>32.835893</td>\n",
       "      <td>...</td>\n",
       "      <td>forced air</td>\n",
       "      <td>central</td>\n",
       "      <td>detached garage</td>\n",
       "      <td>8220.0</td>\n",
       "      <td>1</td>\n",
       "      <td>0</td>\n",
       "      <td>9.2</td>\n",
       "      <td>0.8</td>\n",
       "      <td>4.0</td>\n",
       "      <td>0</td>\n",
       "    </tr>\n",
       "    <tr>\n",
       "      <th>3</th>\n",
       "      <td>for sale</td>\n",
       "      <td>townhouse</td>\n",
       "      <td>3.0</td>\n",
       "      <td>0</td>\n",
       "      <td>897.0</td>\n",
       "      <td>2.0</td>\n",
       "      <td>2.0</td>\n",
       "      <td>209000.0</td>\n",
       "      <td>19145</td>\n",
       "      <td>39.909857</td>\n",
       "      <td>...</td>\n",
       "      <td>forced air</td>\n",
       "      <td>central</td>\n",
       "      <td>no data</td>\n",
       "      <td>680.0</td>\n",
       "      <td>0</td>\n",
       "      <td>0</td>\n",
       "      <td>1.4</td>\n",
       "      <td>0.4</td>\n",
       "      <td>2.0</td>\n",
       "      <td>0</td>\n",
       "    </tr>\n",
       "    <tr>\n",
       "      <th>4</th>\n",
       "      <td>active</td>\n",
       "      <td>other</td>\n",
       "      <td>2.0</td>\n",
       "      <td>0</td>\n",
       "      <td>1507.0</td>\n",
       "      <td>3.0</td>\n",
       "      <td>1.0</td>\n",
       "      <td>181500.0</td>\n",
       "      <td>34759</td>\n",
       "      <td>28.103908</td>\n",
       "      <td>...</td>\n",
       "      <td>electric</td>\n",
       "      <td>central</td>\n",
       "      <td>no data</td>\n",
       "      <td>4996.0</td>\n",
       "      <td>1</td>\n",
       "      <td>0</td>\n",
       "      <td>2.3</td>\n",
       "      <td>3.8</td>\n",
       "      <td>4.0</td>\n",
       "      <td>1</td>\n",
       "    </tr>\n",
       "  </tbody>\n",
       "</table>\n",
       "<p>5 rows × 23 columns</p>\n",
       "</div>"
      ],
      "text/plain": [
       "     status   propertyType  baths  fireplace    sqft  beds  stories  \\\n",
       "0    active  single-family    3.5          1  2900.0   4.0      1.0   \n",
       "1  for sale  single-family    3.0          0  1947.0   3.0      2.0   \n",
       "2  for sale  single-family    8.0          1  6457.0   5.0      3.0   \n",
       "3  for sale      townhouse    3.0          0   897.0   2.0      2.0   \n",
       "4    active          other    2.0          0  1507.0   3.0      1.0   \n",
       "\n",
       "      target    ZIP        LAT  ...     heating  cooling          parking  \\\n",
       "0   418000.0  28387  35.179251  ...     central  no data          no data   \n",
       "1   310000.0  99216  47.686363  ...     no data  no data          no data   \n",
       "2  2395000.0  75205  32.835893  ...  forced air  central  detached garage   \n",
       "3   209000.0  19145  39.909857  ...  forced air  central          no data   \n",
       "4   181500.0  34759  28.103908  ...    electric  central          no data   \n",
       "\n",
       "  lotsize remodeling lotsize_was_null  mean_school_rating  \\\n",
       "0  8276.0          0                1                 5.2   \n",
       "1  5828.0          0                0                 4.0   \n",
       "2  8220.0          1                0                 9.2   \n",
       "3   680.0          0                0                 1.4   \n",
       "4  4996.0          1                0                 2.3   \n",
       "\n",
       "   mean_school_distance  schools_count  beds_was_null  \n",
       "0                   5.5            8.0              0  \n",
       "1                   1.3            3.0              0  \n",
       "2                   0.8            4.0              0  \n",
       "3                   0.4            2.0              0  \n",
       "4                   3.8            4.0              1  \n",
       "\n",
       "[5 rows x 23 columns]"
      ]
     },
     "execution_count": 20,
     "metadata": {},
     "output_type": "execute_result"
    }
   ],
   "source": [
    "# загрузим наш очищенный датасет\n",
    "df = pd.read_csv('data/data_preproc.csv')\n",
    "df.head()"
   ]
  },
  {
   "cell_type": "code",
   "execution_count": 21,
   "metadata": {},
   "outputs": [],
   "source": [
    "# ОЧИСТИМ ДАТАСЕТ ОТ ОБЪЕКТОВ, КОТОРЫЕ СТОЯТ ДОРОЖЕ 1 МЛН.ДОЛЛАРОВ И ПОСТРОЕНЫ ДО 1900 ГОДА\n",
    "df = df[(df['target'] <= 1e6) & (df['year_built'] >= 1900)]"
   ]
  },
  {
   "cell_type": "code",
   "execution_count": 22,
   "metadata": {},
   "outputs": [
    {
     "data": {
      "application/vnd.jupyter.widget-view+json": {
       "model_id": "1cfe87e6f5bc4e499c9bd2ae15a22181",
       "version_major": 2,
       "version_minor": 0
      },
      "text/plain": [
       "Summarize dataset:   0%|          | 0/5 [00:00<?, ?it/s]"
      ]
     },
     "metadata": {},
     "output_type": "display_data"
    },
    {
     "data": {
      "application/vnd.jupyter.widget-view+json": {
       "model_id": "e30281e0a74d4a0990a7377e2e22a5b2",
       "version_major": 2,
       "version_minor": 0
      },
      "text/plain": [
       "Generate report structure:   0%|          | 0/1 [00:00<?, ?it/s]"
      ]
     },
     "metadata": {},
     "output_type": "display_data"
    },
    {
     "data": {
      "application/vnd.jupyter.widget-view+json": {
       "model_id": "d2129ce762544edf8bf5ccc0ca8052df",
       "version_major": 2,
       "version_minor": 0
      },
      "text/plain": [
       "Render HTML:   0%|          | 0/1 [00:00<?, ?it/s]"
      ]
     },
     "metadata": {},
     "output_type": "display_data"
    },
    {
     "data": {
      "application/vnd.jupyter.widget-view+json": {
       "model_id": "b8f5c60801d249e1882ac44eb565333d",
       "version_major": 2,
       "version_minor": 0
      },
      "text/plain": [
       "Export report to file:   0%|          | 0/1 [00:00<?, ?it/s]"
      ]
     },
     "metadata": {},
     "output_type": "display_data"
    }
   ],
   "source": [
    "# посмотрим на наши обработанные данные\n",
    "from ydata_profiling import ProfileReport\n",
    "profile = ProfileReport(df, title=\"ИНФОРМАЦИЯ ОБ ОБЪЕКТАХ НЕДВИЖИМОСТИ\")\n",
    "profile.to_file(\"preprocessed_data_short.html\")"
   ]
  },
  {
   "cell_type": "markdown",
   "metadata": {},
   "source": [
    "Далее проведем всю ту же самую работу по моделированию, что и в основной ветке"
   ]
  },
  {
   "cell_type": "code",
   "execution_count": 23,
   "metadata": {},
   "outputs": [],
   "source": [
    "df = pd.get_dummies(df, columns=['status', 'propertyType', 'cooling', 'heating', 'parking'], drop_first=True)"
   ]
  },
  {
   "cell_type": "code",
   "execution_count": 24,
   "metadata": {},
   "outputs": [],
   "source": [
    "# Удаляем сильно скореллированные признаки \n",
    "df.drop(['ZIP', 'cooling_no data'], axis = 1, inplace = True)\n",
    "# Еще раз выгрузим данные для модели в csv\n",
    "df.to_csv('data/data_4_model_short.csv', index = False)"
   ]
  },
  {
   "cell_type": "code",
   "execution_count": 25,
   "metadata": {},
   "outputs": [
    {
     "data": {
      "text/html": [
       "<div>\n",
       "<style scoped>\n",
       "    .dataframe tbody tr th:only-of-type {\n",
       "        vertical-align: middle;\n",
       "    }\n",
       "\n",
       "    .dataframe tbody tr th {\n",
       "        vertical-align: top;\n",
       "    }\n",
       "\n",
       "    .dataframe thead th {\n",
       "        text-align: right;\n",
       "    }\n",
       "</style>\n",
       "<table border=\"1\" class=\"dataframe\">\n",
       "  <thead>\n",
       "    <tr style=\"text-align: right;\">\n",
       "      <th></th>\n",
       "      <th>baths</th>\n",
       "      <th>fireplace</th>\n",
       "      <th>sqft</th>\n",
       "      <th>beds</th>\n",
       "      <th>stories</th>\n",
       "      <th>target</th>\n",
       "      <th>LAT</th>\n",
       "      <th>LNG</th>\n",
       "      <th>private_pool</th>\n",
       "      <th>year_built</th>\n",
       "      <th>...</th>\n",
       "      <th>parking_attached garage</th>\n",
       "      <th>parking_carport</th>\n",
       "      <th>parking_detached garage</th>\n",
       "      <th>parking_garage</th>\n",
       "      <th>parking_no data</th>\n",
       "      <th>parking_none</th>\n",
       "      <th>parking_off street</th>\n",
       "      <th>parking_on street</th>\n",
       "      <th>parking_other</th>\n",
       "      <th>parking_parking</th>\n",
       "    </tr>\n",
       "  </thead>\n",
       "  <tbody>\n",
       "    <tr>\n",
       "      <th>0</th>\n",
       "      <td>3.5</td>\n",
       "      <td>1</td>\n",
       "      <td>2900.00</td>\n",
       "      <td>4.0</td>\n",
       "      <td>1.0</td>\n",
       "      <td>418000.0</td>\n",
       "      <td>35.179251</td>\n",
       "      <td>-79.376489</td>\n",
       "      <td>0</td>\n",
       "      <td>2019</td>\n",
       "      <td>...</td>\n",
       "      <td>False</td>\n",
       "      <td>False</td>\n",
       "      <td>False</td>\n",
       "      <td>False</td>\n",
       "      <td>True</td>\n",
       "      <td>False</td>\n",
       "      <td>False</td>\n",
       "      <td>False</td>\n",
       "      <td>False</td>\n",
       "      <td>False</td>\n",
       "    </tr>\n",
       "    <tr>\n",
       "      <th>1</th>\n",
       "      <td>3.0</td>\n",
       "      <td>0</td>\n",
       "      <td>1947.00</td>\n",
       "      <td>3.0</td>\n",
       "      <td>2.0</td>\n",
       "      <td>310000.0</td>\n",
       "      <td>47.686363</td>\n",
       "      <td>-117.216681</td>\n",
       "      <td>0</td>\n",
       "      <td>2019</td>\n",
       "      <td>...</td>\n",
       "      <td>False</td>\n",
       "      <td>False</td>\n",
       "      <td>False</td>\n",
       "      <td>False</td>\n",
       "      <td>True</td>\n",
       "      <td>False</td>\n",
       "      <td>False</td>\n",
       "      <td>False</td>\n",
       "      <td>False</td>\n",
       "      <td>False</td>\n",
       "    </tr>\n",
       "    <tr>\n",
       "      <th>2</th>\n",
       "      <td>3.0</td>\n",
       "      <td>0</td>\n",
       "      <td>897.00</td>\n",
       "      <td>2.0</td>\n",
       "      <td>2.0</td>\n",
       "      <td>209000.0</td>\n",
       "      <td>39.909857</td>\n",
       "      <td>-75.198265</td>\n",
       "      <td>0</td>\n",
       "      <td>1920</td>\n",
       "      <td>...</td>\n",
       "      <td>False</td>\n",
       "      <td>False</td>\n",
       "      <td>False</td>\n",
       "      <td>False</td>\n",
       "      <td>True</td>\n",
       "      <td>False</td>\n",
       "      <td>False</td>\n",
       "      <td>False</td>\n",
       "      <td>False</td>\n",
       "      <td>False</td>\n",
       "    </tr>\n",
       "    <tr>\n",
       "      <th>3</th>\n",
       "      <td>2.0</td>\n",
       "      <td>0</td>\n",
       "      <td>1507.00</td>\n",
       "      <td>3.0</td>\n",
       "      <td>1.0</td>\n",
       "      <td>181500.0</td>\n",
       "      <td>28.103908</td>\n",
       "      <td>-81.419378</td>\n",
       "      <td>0</td>\n",
       "      <td>2006</td>\n",
       "      <td>...</td>\n",
       "      <td>False</td>\n",
       "      <td>False</td>\n",
       "      <td>False</td>\n",
       "      <td>False</td>\n",
       "      <td>True</td>\n",
       "      <td>False</td>\n",
       "      <td>False</td>\n",
       "      <td>False</td>\n",
       "      <td>False</td>\n",
       "      <td>False</td>\n",
       "    </tr>\n",
       "    <tr>\n",
       "      <th>4</th>\n",
       "      <td>2.5</td>\n",
       "      <td>0</td>\n",
       "      <td>1192.98</td>\n",
       "      <td>3.0</td>\n",
       "      <td>1.0</td>\n",
       "      <td>68000.0</td>\n",
       "      <td>35.053329</td>\n",
       "      <td>-89.862806</td>\n",
       "      <td>0</td>\n",
       "      <td>1976</td>\n",
       "      <td>...</td>\n",
       "      <td>False</td>\n",
       "      <td>False</td>\n",
       "      <td>False</td>\n",
       "      <td>False</td>\n",
       "      <td>True</td>\n",
       "      <td>False</td>\n",
       "      <td>False</td>\n",
       "      <td>False</td>\n",
       "      <td>False</td>\n",
       "      <td>False</td>\n",
       "    </tr>\n",
       "  </tbody>\n",
       "</table>\n",
       "<p>5 rows × 64 columns</p>\n",
       "</div>"
      ],
      "text/plain": [
       "   baths  fireplace     sqft  beds  stories    target        LAT         LNG  \\\n",
       "0    3.5          1  2900.00   4.0      1.0  418000.0  35.179251  -79.376489   \n",
       "1    3.0          0  1947.00   3.0      2.0  310000.0  47.686363 -117.216681   \n",
       "2    3.0          0   897.00   2.0      2.0  209000.0  39.909857  -75.198265   \n",
       "3    2.0          0  1507.00   3.0      1.0  181500.0  28.103908  -81.419378   \n",
       "4    2.5          0  1192.98   3.0      1.0   68000.0  35.053329  -89.862806   \n",
       "\n",
       "   private_pool  year_built  ...  parking_attached garage  parking_carport  \\\n",
       "0             0        2019  ...                    False            False   \n",
       "1             0        2019  ...                    False            False   \n",
       "2             0        1920  ...                    False            False   \n",
       "3             0        2006  ...                    False            False   \n",
       "4             0        1976  ...                    False            False   \n",
       "\n",
       "   parking_detached garage  parking_garage  parking_no data  parking_none  \\\n",
       "0                    False           False             True         False   \n",
       "1                    False           False             True         False   \n",
       "2                    False           False             True         False   \n",
       "3                    False           False             True         False   \n",
       "4                    False           False             True         False   \n",
       "\n",
       "   parking_off street  parking_on street  parking_other  parking_parking  \n",
       "0               False              False          False            False  \n",
       "1               False              False          False            False  \n",
       "2               False              False          False            False  \n",
       "3               False              False          False            False  \n",
       "4               False              False          False            False  \n",
       "\n",
       "[5 rows x 64 columns]"
      ]
     },
     "execution_count": 25,
     "metadata": {},
     "output_type": "execute_result"
    }
   ],
   "source": [
    "df = pd.read_csv('data/data_4_model_short.csv')\n",
    "df.head()"
   ]
  },
  {
   "cell_type": "markdown",
   "metadata": {},
   "source": [
    "Теперь, когда все наши признаки предобработаны, сформируем матрицу наблюдений X, вектор целевой переменной y и его логарифм y_log. В матрицу наблюдений войдут все столбцы из таблицы за исключением целевого признака target и его логарифмированной версии target_log:"
   ]
  },
  {
   "cell_type": "code",
   "execution_count": 26,
   "metadata": {},
   "outputs": [],
   "source": [
    "X = df.drop(['target'], axis=1)\n",
    "y = df['target']\n",
    "\n",
    "X_train, X_test, y_train, y_test = model_selection.train_test_split(\n",
    "    X, y, \n",
    "    test_size=0.2, \n",
    "    random_state=42,\n",
    "    shuffle=True\n",
    ")"
   ]
  },
  {
   "cell_type": "markdown",
   "metadata": {},
   "source": [
    "Нормализуем предикторы в обучающей и валидационной выборках с помощью MinMaxScaler из библиотеки sklearn. Помним, что обучение нормализатора производится на обучающей выборке, а трансформация на обучающей и валидационной!"
   ]
  },
  {
   "cell_type": "code",
   "execution_count": 27,
   "metadata": {},
   "outputs": [],
   "source": [
    "# инициализируем нормализатор MinMaxScaler\n",
    "scaler = preprocessing.MinMaxScaler()\n",
    "\n",
    "# обучаем скейлер на тренировочной выборке\n",
    "scaler.fit(X_train)\n",
    "\n",
    "# трансформируем тренировочные и тестовые данные \n",
    "X_train_scal = scaler.transform(X_train)\n",
    "X_test_scal = scaler.transform(X_test)\n",
    "\n",
    "# Преобразуем промежуточный датасет в полноценный датафрейм для визуализации\n",
    "X_train_scal = pd.DataFrame(X_train_scal, columns=X_train.columns)\n",
    "X_test_scal = pd.DataFrame(X_test_scal, columns=X_test.columns)"
   ]
  },
  {
   "cell_type": "markdown",
   "metadata": {},
   "source": [
    "Cоздадим функцию, которая будет расчитывать метрики:\n",
    "\n",
    "1. MAE - средняя абсолютная ошибка (базовая метрика)\n",
    "2. MAPE - средняя абсолютная ошибка в процентах \n",
    "3. $R^2$ - коэффициент детерминации "
   ]
  },
  {
   "cell_type": "code",
   "execution_count": 28,
   "metadata": {},
   "outputs": [],
   "source": [
    "def print_metrics(model_name, y_train, y_train_predict, y_test, y_test_predict):\n",
    "    train_r2 = metrics.r2_score(y_train, y_train_predict)\n",
    "    train_mae = metrics.mean_absolute_error(y_train, y_train_predict)\n",
    "    train_mape = metrics.mean_absolute_percentage_error(y_train, y_train_predict)*100\n",
    "    test_r2 = metrics.r2_score(y_test, y_test_predict)\n",
    "    test_mae = metrics.mean_absolute_error(y_test, y_test_predict)\n",
    "    test_mape = metrics.mean_absolute_percentage_error(y_test, y_test_predict)*100\n",
    "    print('Train R^2: {:.3f}'.format(train_r2))\n",
    "    print('Train MAE: {:.3f}'.format(train_mae))\n",
    "    print('Train MAPE: {:.3f}%'.format(train_mape))\n",
    "    print('\\n')\n",
    "    print('Test R^2: {:.3f}'.format(test_r2))\n",
    "    print('Test MAE: {:.3f}'.format(test_mae))\n",
    "    print('Test MAPE: {:.3f}%'.format(test_mape))\n",
    "    return [model_name, \n",
    "            round(train_r2, 2),\n",
    "            round(train_mae, 2),\n",
    "            round(train_mape, 2),\n",
    "            round(test_r2, 2), \n",
    "            round(test_mae, 2), \n",
    "            round(test_mape, 2)\n",
    "            ]"
   ]
  },
  {
   "cell_type": "markdown",
   "metadata": {},
   "source": [
    "## Линейная регрессия\n",
    "\n",
    "Первым делом сформируем базовую модель на всех признаках, после стандартизации их получилось 63. Далее производим предсказание на тренировочной и тестовых данных и считаем метрики."
   ]
  },
  {
   "cell_type": "code",
   "execution_count": 29,
   "metadata": {},
   "outputs": [
    {
     "name": "stdout",
     "output_type": "stream",
     "text": [
      "Train R^2: 0.354\n",
      "Train MAE: 129750.193\n",
      "Train MAPE: 48.876%\n",
      "\n",
      "\n",
      "Test R^2: 0.362\n",
      "Test MAE: 129000.519\n",
      "Test MAPE: 49.058%\n"
     ]
    }
   ],
   "source": [
    "#Инициализируем объект класса линейная регрессия\n",
    "lr = linear_model.LinearRegression()\n",
    "#Обучаем модель - ищем параметры\n",
    "lr.fit(X_train_scal, y_train)\n",
    "#Делаем предсказание для каждой из выборок\n",
    "y_train_predict = lr.predict(X_train_scal)\n",
    "y_test_predict = lr.predict(X_test_scal)\n",
    "#Выводим результирующие метрики\n",
    "s1 = print_metrics('LR full', y_train, y_train_predict, y_test, y_test_predict)"
   ]
  },
  {
   "cell_type": "markdown",
   "metadata": {},
   "source": [
    "На первой же, самой неэффективной модели, получаем результаты лучше!\\\n",
    "Напомню, что на \"необрезанном\" наборе данных Test MAE был более 207 тыс, а Test MAPE - почти 62%\\\n",
    "НО! Коэффициент детерминации стал хуже (ранее был 0.42), т.е. степень соответствия модели реальным данным никуда не годится.\\\n",
    "Посмотрим метрики на остальных моделях."
   ]
  },
  {
   "cell_type": "markdown",
   "metadata": {},
   "source": [
    "Попробуем метод на основе фильтров. Обучим модель на 25 отобранных признаках - для этого используем SelectKBest."
   ]
  },
  {
   "cell_type": "code",
   "execution_count": 30,
   "metadata": {},
   "outputs": [
    {
     "data": {
      "text/plain": [
       "array(['baths', 'fireplace', 'sqft', 'beds', 'stories', 'LAT', 'LNG',\n",
       "       'private_pool', 'year_built', 'mean_school_rating',\n",
       "       'schools_count', 'status_foreclosed', 'status_new construction',\n",
       "       'status_pending', 'propertyType_mobile home',\n",
       "       'propertyType_multi-family', 'cooling_central', 'heating_electric',\n",
       "       'heating_no data', 'parking_3 spaces', 'parking_4 spaces',\n",
       "       'parking_5+ spaces', 'parking_attached garage', 'parking_carport',\n",
       "       'parking_no data'], dtype=object)"
      ]
     },
     "execution_count": 30,
     "metadata": {},
     "output_type": "execute_result"
    }
   ],
   "source": [
    "selector = feature_selection.SelectKBest(feature_selection.f_regression, k=25)\n",
    "selector.fit(X_train_scal, y_train)\n",
    "best_features = selector.get_feature_names_out()\n",
    "best_features"
   ]
  },
  {
   "cell_type": "markdown",
   "metadata": {},
   "source": [
    "Построим модель линейной регрессии на топ-25 отобранных признаках."
   ]
  },
  {
   "cell_type": "code",
   "execution_count": 31,
   "metadata": {},
   "outputs": [
    {
     "name": "stdout",
     "output_type": "stream",
     "text": [
      "Train R^2: 0.324\n",
      "Train MAE: 133251.027\n",
      "Train MAPE: 50.527%\n",
      "\n",
      "\n",
      "Test R^2: 0.334\n",
      "Test MAE: 132291.726\n",
      "Test MAPE: 50.614%\n"
     ]
    }
   ],
   "source": [
    "lr_2 = LinearRegression()\n",
    "lr_2.fit(X_train_scal[best_features], y_train)\n",
    "y_train_predict = lr_2.predict(X_train_scal[best_features])\n",
    "y_test_predict = lr_2.predict(X_test_scal[best_features])\n",
    "\n",
    "s2 = print_metrics('LR top25', y_train, y_train_predict, y_test, y_test_predict)"
   ]
  },
  {
   "cell_type": "markdown",
   "metadata": {},
   "source": [
    "Метрики лучше не стали. Попробуем полиномиальную регрессию"
   ]
  },
  {
   "cell_type": "markdown",
   "metadata": {},
   "source": [
    "## Полиномиальная регрессия"
   ]
  },
  {
   "cell_type": "code",
   "execution_count": 32,
   "metadata": {},
   "outputs": [
    {
     "name": "stdout",
     "output_type": "stream",
     "text": [
      "(215961, 350)\n",
      "(53991, 350)\n",
      "\n",
      "\n",
      "Train R^2: 0.508\n",
      "Train MAE: 112013.868\n",
      "Train MAPE: 39.904%\n",
      "\n",
      "\n",
      "Test R^2: 0.515\n",
      "Test MAE: 110858.567\n",
      "Test MAPE: 39.861%\n"
     ]
    }
   ],
   "source": [
    "#Создаём генератор полиномиальных признаков\n",
    "poly = preprocessing.PolynomialFeatures(degree=2, include_bias=False)\n",
    "poly.fit(X_train_scal[best_features])\n",
    "#Генерируем полиномиальные признаки для тренировочной выборки\n",
    "X_train_poly = poly.transform(X_train_scal[best_features])\n",
    "#Генерируем полиномиальные признаки для тестовой выборки\n",
    "X_test_poly = poly.transform(X_test_scal[best_features])\n",
    "\n",
    "print(X_train_poly.shape)\n",
    "print(X_test_poly.shape)\n",
    "print('\\n')\n",
    "\n",
    "#Создаём объект класса линейной регрессии\n",
    "lr_model_poly = linear_model.LinearRegression()\n",
    "#Обучаем модель по МНК\n",
    "lr_model_poly.fit(X_train_poly, y_train)\n",
    "#Делаем предсказание для тренировочной выборки\n",
    "y_train_predict = lr_model_poly.predict(X_train_poly)\n",
    "#Делаем предсказание для тестовой выборки\n",
    "y_test_predict = lr_model_poly.predict(X_test_poly)\n",
    "\n",
    "s3 = print_metrics('PR top25', y_train, y_train_predict, y_test, y_test_predict)"
   ]
  },
  {
   "cell_type": "markdown",
   "metadata": {},
   "source": [
    "Метрики улучшились, но такая модель по прежнему малопригодна для применения.\n",
    "\n",
    "Построим модель полиномиальной регрессии второй степени с $L_1$-регуляризацией"
   ]
  },
  {
   "cell_type": "code",
   "execution_count": 33,
   "metadata": {},
   "outputs": [
    {
     "name": "stdout",
     "output_type": "stream",
     "text": [
      "Train R^2: 0.508\n",
      "Train MAE: 112011.249\n",
      "Train MAPE: 39.889%\n",
      "\n",
      "\n",
      "Test R^2: 0.514\n",
      "Test MAE: 110862.547\n",
      "Test MAPE: 39.850%\n"
     ]
    }
   ],
   "source": [
    "#Создаём объект класса линейной регрессии с L1-регуляризацией\n",
    "lasso_lr = linear_model.Lasso(alpha=0.1)\n",
    "lasso_lr.fit(X_train_poly, y_train)\n",
    "y_train_predict = lasso_lr.predict(X_train_poly)\n",
    "y_test_predict = lasso_lr.predict(X_test_poly)\n",
    "\n",
    "s4 = print_metrics('L1 Lasso', y_train, y_train_predict, y_test, y_test_predict)"
   ]
  },
  {
   "cell_type": "markdown",
   "metadata": {},
   "source": [
    "Построим модель полиномиальной регрессии второй степени с $L_2$-регуляризацией"
   ]
  },
  {
   "cell_type": "code",
   "execution_count": 34,
   "metadata": {},
   "outputs": [
    {
     "name": "stdout",
     "output_type": "stream",
     "text": [
      "Train R^2: 0.508\n",
      "Train MAE: 112126.202\n",
      "Train MAPE: 39.947%\n",
      "\n",
      "\n",
      "Test R^2: 0.514\n",
      "Test MAE: 110989.124\n",
      "Test MAPE: 39.908%\n"
     ]
    }
   ],
   "source": [
    "#Создаём объект класса линейной регрессии с L2-регуляризацией\n",
    "ridge_lr = linear_model.Ridge(alpha=0.1)\n",
    "ridge_lr.fit(X_train_poly, y_train)\n",
    "y_train_predict = ridge_lr.predict(X_train_poly)\n",
    "y_test_predict = ridge_lr.predict(X_test_poly)\n",
    "\n",
    "s5 = print_metrics('L2 Ridge', y_train, y_train_predict, y_test, y_test_predict)"
   ]
  },
  {
   "cell_type": "markdown",
   "metadata": {},
   "source": [
    "Метрики остались на том же уровне. Теперь попробуем деревья решений.\n"
   ]
  },
  {
   "cell_type": "markdown",
   "metadata": {},
   "source": [
    "## Деревья решений\n",
    "\n",
    "Построим модель **DecisionTreeRegressor** на всех признаках, не ограничивая глубину деревьев"
   ]
  },
  {
   "cell_type": "code",
   "execution_count": 35,
   "metadata": {},
   "outputs": [
    {
     "name": "stdout",
     "output_type": "stream",
     "text": [
      "Train R^2: 0.999\n",
      "Train MAE: 573.350\n",
      "Train MAPE: 0.177%\n",
      "\n",
      "\n",
      "Test R^2: 0.693\n",
      "Test MAE: 67900.293\n",
      "Test MAPE: 21.830%\n"
     ]
    }
   ],
   "source": [
    "model_tree = tree.DecisionTreeRegressor(random_state=42)\n",
    "model_tree.fit(X_train_scal[best_features], y_train)\n",
    "\n",
    "y_train_predict = model_tree.predict(X_train_scal[best_features])\n",
    "y_test_predict = model_tree.predict(X_test_scal[best_features])\n",
    "\n",
    "s6 = print_metrics('DT top25', y_train, y_train_predict, y_test, y_test_predict)"
   ]
  },
  {
   "cell_type": "markdown",
   "metadata": {},
   "source": [
    "Как видим, метрики на тестовой выборке значительно хуже, чем на тренировочной. Это значит, что модель сильно подстроилась под тренировочные данные и мы получили переобучение модели.  "
   ]
  },
  {
   "cell_type": "code",
   "execution_count": 36,
   "metadata": {},
   "outputs": [
    {
     "data": {
      "application/vnd.plotly.v1+json": {
       "config": {
        "plotlyServerURL": "https://plot.ly"
       },
       "data": [
        {
         "name": "Train",
         "type": "scatter",
         "x": [
          5,
          6,
          7,
          8,
          9,
          10,
          11,
          12,
          13,
          14,
          15,
          16,
          17,
          18,
          19
         ],
         "y": [
          0.43,
          0.48,
          0.53,
          0.57,
          0.61,
          0.64,
          0.68,
          0.71,
          0.74,
          0.78,
          0.81,
          0.84,
          0.87,
          0.9,
          0.92
         ]
        },
        {
         "name": "Test",
         "type": "scatter",
         "x": [
          5,
          6,
          7,
          8,
          9,
          10,
          11,
          12,
          13,
          14,
          15,
          16,
          17,
          18,
          19
         ],
         "y": [
          0.44,
          0.48,
          0.53,
          0.56,
          0.59,
          0.62,
          0.65,
          0.67,
          0.68,
          0.69,
          0.7,
          0.71,
          0.71,
          0.71,
          0.71
         ]
        }
       ],
       "layout": {
        "height": 800,
        "template": {
         "data": {
          "bar": [
           {
            "error_x": {
             "color": "#2a3f5f"
            },
            "error_y": {
             "color": "#2a3f5f"
            },
            "marker": {
             "line": {
              "color": "#E5ECF6",
              "width": 0.5
             },
             "pattern": {
              "fillmode": "overlay",
              "size": 10,
              "solidity": 0.2
             }
            },
            "type": "bar"
           }
          ],
          "barpolar": [
           {
            "marker": {
             "line": {
              "color": "#E5ECF6",
              "width": 0.5
             },
             "pattern": {
              "fillmode": "overlay",
              "size": 10,
              "solidity": 0.2
             }
            },
            "type": "barpolar"
           }
          ],
          "carpet": [
           {
            "aaxis": {
             "endlinecolor": "#2a3f5f",
             "gridcolor": "white",
             "linecolor": "white",
             "minorgridcolor": "white",
             "startlinecolor": "#2a3f5f"
            },
            "baxis": {
             "endlinecolor": "#2a3f5f",
             "gridcolor": "white",
             "linecolor": "white",
             "minorgridcolor": "white",
             "startlinecolor": "#2a3f5f"
            },
            "type": "carpet"
           }
          ],
          "choropleth": [
           {
            "colorbar": {
             "outlinewidth": 0,
             "ticks": ""
            },
            "type": "choropleth"
           }
          ],
          "contour": [
           {
            "colorbar": {
             "outlinewidth": 0,
             "ticks": ""
            },
            "colorscale": [
             [
              0,
              "#0d0887"
             ],
             [
              0.1111111111111111,
              "#46039f"
             ],
             [
              0.2222222222222222,
              "#7201a8"
             ],
             [
              0.3333333333333333,
              "#9c179e"
             ],
             [
              0.4444444444444444,
              "#bd3786"
             ],
             [
              0.5555555555555556,
              "#d8576b"
             ],
             [
              0.6666666666666666,
              "#ed7953"
             ],
             [
              0.7777777777777778,
              "#fb9f3a"
             ],
             [
              0.8888888888888888,
              "#fdca26"
             ],
             [
              1,
              "#f0f921"
             ]
            ],
            "type": "contour"
           }
          ],
          "contourcarpet": [
           {
            "colorbar": {
             "outlinewidth": 0,
             "ticks": ""
            },
            "type": "contourcarpet"
           }
          ],
          "heatmap": [
           {
            "colorbar": {
             "outlinewidth": 0,
             "ticks": ""
            },
            "colorscale": [
             [
              0,
              "#0d0887"
             ],
             [
              0.1111111111111111,
              "#46039f"
             ],
             [
              0.2222222222222222,
              "#7201a8"
             ],
             [
              0.3333333333333333,
              "#9c179e"
             ],
             [
              0.4444444444444444,
              "#bd3786"
             ],
             [
              0.5555555555555556,
              "#d8576b"
             ],
             [
              0.6666666666666666,
              "#ed7953"
             ],
             [
              0.7777777777777778,
              "#fb9f3a"
             ],
             [
              0.8888888888888888,
              "#fdca26"
             ],
             [
              1,
              "#f0f921"
             ]
            ],
            "type": "heatmap"
           }
          ],
          "heatmapgl": [
           {
            "colorbar": {
             "outlinewidth": 0,
             "ticks": ""
            },
            "colorscale": [
             [
              0,
              "#0d0887"
             ],
             [
              0.1111111111111111,
              "#46039f"
             ],
             [
              0.2222222222222222,
              "#7201a8"
             ],
             [
              0.3333333333333333,
              "#9c179e"
             ],
             [
              0.4444444444444444,
              "#bd3786"
             ],
             [
              0.5555555555555556,
              "#d8576b"
             ],
             [
              0.6666666666666666,
              "#ed7953"
             ],
             [
              0.7777777777777778,
              "#fb9f3a"
             ],
             [
              0.8888888888888888,
              "#fdca26"
             ],
             [
              1,
              "#f0f921"
             ]
            ],
            "type": "heatmapgl"
           }
          ],
          "histogram": [
           {
            "marker": {
             "pattern": {
              "fillmode": "overlay",
              "size": 10,
              "solidity": 0.2
             }
            },
            "type": "histogram"
           }
          ],
          "histogram2d": [
           {
            "colorbar": {
             "outlinewidth": 0,
             "ticks": ""
            },
            "colorscale": [
             [
              0,
              "#0d0887"
             ],
             [
              0.1111111111111111,
              "#46039f"
             ],
             [
              0.2222222222222222,
              "#7201a8"
             ],
             [
              0.3333333333333333,
              "#9c179e"
             ],
             [
              0.4444444444444444,
              "#bd3786"
             ],
             [
              0.5555555555555556,
              "#d8576b"
             ],
             [
              0.6666666666666666,
              "#ed7953"
             ],
             [
              0.7777777777777778,
              "#fb9f3a"
             ],
             [
              0.8888888888888888,
              "#fdca26"
             ],
             [
              1,
              "#f0f921"
             ]
            ],
            "type": "histogram2d"
           }
          ],
          "histogram2dcontour": [
           {
            "colorbar": {
             "outlinewidth": 0,
             "ticks": ""
            },
            "colorscale": [
             [
              0,
              "#0d0887"
             ],
             [
              0.1111111111111111,
              "#46039f"
             ],
             [
              0.2222222222222222,
              "#7201a8"
             ],
             [
              0.3333333333333333,
              "#9c179e"
             ],
             [
              0.4444444444444444,
              "#bd3786"
             ],
             [
              0.5555555555555556,
              "#d8576b"
             ],
             [
              0.6666666666666666,
              "#ed7953"
             ],
             [
              0.7777777777777778,
              "#fb9f3a"
             ],
             [
              0.8888888888888888,
              "#fdca26"
             ],
             [
              1,
              "#f0f921"
             ]
            ],
            "type": "histogram2dcontour"
           }
          ],
          "mesh3d": [
           {
            "colorbar": {
             "outlinewidth": 0,
             "ticks": ""
            },
            "type": "mesh3d"
           }
          ],
          "parcoords": [
           {
            "line": {
             "colorbar": {
              "outlinewidth": 0,
              "ticks": ""
             }
            },
            "type": "parcoords"
           }
          ],
          "pie": [
           {
            "automargin": true,
            "type": "pie"
           }
          ],
          "scatter": [
           {
            "fillpattern": {
             "fillmode": "overlay",
             "size": 10,
             "solidity": 0.2
            },
            "type": "scatter"
           }
          ],
          "scatter3d": [
           {
            "line": {
             "colorbar": {
              "outlinewidth": 0,
              "ticks": ""
             }
            },
            "marker": {
             "colorbar": {
              "outlinewidth": 0,
              "ticks": ""
             }
            },
            "type": "scatter3d"
           }
          ],
          "scattercarpet": [
           {
            "marker": {
             "colorbar": {
              "outlinewidth": 0,
              "ticks": ""
             }
            },
            "type": "scattercarpet"
           }
          ],
          "scattergeo": [
           {
            "marker": {
             "colorbar": {
              "outlinewidth": 0,
              "ticks": ""
             }
            },
            "type": "scattergeo"
           }
          ],
          "scattergl": [
           {
            "marker": {
             "colorbar": {
              "outlinewidth": 0,
              "ticks": ""
             }
            },
            "type": "scattergl"
           }
          ],
          "scattermapbox": [
           {
            "marker": {
             "colorbar": {
              "outlinewidth": 0,
              "ticks": ""
             }
            },
            "type": "scattermapbox"
           }
          ],
          "scatterpolar": [
           {
            "marker": {
             "colorbar": {
              "outlinewidth": 0,
              "ticks": ""
             }
            },
            "type": "scatterpolar"
           }
          ],
          "scatterpolargl": [
           {
            "marker": {
             "colorbar": {
              "outlinewidth": 0,
              "ticks": ""
             }
            },
            "type": "scatterpolargl"
           }
          ],
          "scatterternary": [
           {
            "marker": {
             "colorbar": {
              "outlinewidth": 0,
              "ticks": ""
             }
            },
            "type": "scatterternary"
           }
          ],
          "surface": [
           {
            "colorbar": {
             "outlinewidth": 0,
             "ticks": ""
            },
            "colorscale": [
             [
              0,
              "#0d0887"
             ],
             [
              0.1111111111111111,
              "#46039f"
             ],
             [
              0.2222222222222222,
              "#7201a8"
             ],
             [
              0.3333333333333333,
              "#9c179e"
             ],
             [
              0.4444444444444444,
              "#bd3786"
             ],
             [
              0.5555555555555556,
              "#d8576b"
             ],
             [
              0.6666666666666666,
              "#ed7953"
             ],
             [
              0.7777777777777778,
              "#fb9f3a"
             ],
             [
              0.8888888888888888,
              "#fdca26"
             ],
             [
              1,
              "#f0f921"
             ]
            ],
            "type": "surface"
           }
          ],
          "table": [
           {
            "cells": {
             "fill": {
              "color": "#EBF0F8"
             },
             "line": {
              "color": "white"
             }
            },
            "header": {
             "fill": {
              "color": "#C8D4E3"
             },
             "line": {
              "color": "white"
             }
            },
            "type": "table"
           }
          ]
         },
         "layout": {
          "annotationdefaults": {
           "arrowcolor": "#2a3f5f",
           "arrowhead": 0,
           "arrowwidth": 1
          },
          "autotypenumbers": "strict",
          "coloraxis": {
           "colorbar": {
            "outlinewidth": 0,
            "ticks": ""
           }
          },
          "colorscale": {
           "diverging": [
            [
             0,
             "#8e0152"
            ],
            [
             0.1,
             "#c51b7d"
            ],
            [
             0.2,
             "#de77ae"
            ],
            [
             0.3,
             "#f1b6da"
            ],
            [
             0.4,
             "#fde0ef"
            ],
            [
             0.5,
             "#f7f7f7"
            ],
            [
             0.6,
             "#e6f5d0"
            ],
            [
             0.7,
             "#b8e186"
            ],
            [
             0.8,
             "#7fbc41"
            ],
            [
             0.9,
             "#4d9221"
            ],
            [
             1,
             "#276419"
            ]
           ],
           "sequential": [
            [
             0,
             "#0d0887"
            ],
            [
             0.1111111111111111,
             "#46039f"
            ],
            [
             0.2222222222222222,
             "#7201a8"
            ],
            [
             0.3333333333333333,
             "#9c179e"
            ],
            [
             0.4444444444444444,
             "#bd3786"
            ],
            [
             0.5555555555555556,
             "#d8576b"
            ],
            [
             0.6666666666666666,
             "#ed7953"
            ],
            [
             0.7777777777777778,
             "#fb9f3a"
            ],
            [
             0.8888888888888888,
             "#fdca26"
            ],
            [
             1,
             "#f0f921"
            ]
           ],
           "sequentialminus": [
            [
             0,
             "#0d0887"
            ],
            [
             0.1111111111111111,
             "#46039f"
            ],
            [
             0.2222222222222222,
             "#7201a8"
            ],
            [
             0.3333333333333333,
             "#9c179e"
            ],
            [
             0.4444444444444444,
             "#bd3786"
            ],
            [
             0.5555555555555556,
             "#d8576b"
            ],
            [
             0.6666666666666666,
             "#ed7953"
            ],
            [
             0.7777777777777778,
             "#fb9f3a"
            ],
            [
             0.8888888888888888,
             "#fdca26"
            ],
            [
             1,
             "#f0f921"
            ]
           ]
          },
          "colorway": [
           "#636efa",
           "#EF553B",
           "#00cc96",
           "#ab63fa",
           "#FFA15A",
           "#19d3f3",
           "#FF6692",
           "#B6E880",
           "#FF97FF",
           "#FECB52"
          ],
          "font": {
           "color": "#2a3f5f"
          },
          "geo": {
           "bgcolor": "white",
           "lakecolor": "white",
           "landcolor": "#E5ECF6",
           "showlakes": true,
           "showland": true,
           "subunitcolor": "white"
          },
          "hoverlabel": {
           "align": "left"
          },
          "hovermode": "closest",
          "mapbox": {
           "style": "light"
          },
          "paper_bgcolor": "white",
          "plot_bgcolor": "#E5ECF6",
          "polar": {
           "angularaxis": {
            "gridcolor": "white",
            "linecolor": "white",
            "ticks": ""
           },
           "bgcolor": "#E5ECF6",
           "radialaxis": {
            "gridcolor": "white",
            "linecolor": "white",
            "ticks": ""
           }
          },
          "scene": {
           "xaxis": {
            "backgroundcolor": "#E5ECF6",
            "gridcolor": "white",
            "gridwidth": 2,
            "linecolor": "white",
            "showbackground": true,
            "ticks": "",
            "zerolinecolor": "white"
           },
           "yaxis": {
            "backgroundcolor": "#E5ECF6",
            "gridcolor": "white",
            "gridwidth": 2,
            "linecolor": "white",
            "showbackground": true,
            "ticks": "",
            "zerolinecolor": "white"
           },
           "zaxis": {
            "backgroundcolor": "#E5ECF6",
            "gridcolor": "white",
            "gridwidth": 2,
            "linecolor": "white",
            "showbackground": true,
            "ticks": "",
            "zerolinecolor": "white"
           }
          },
          "shapedefaults": {
           "line": {
            "color": "#2a3f5f"
           }
          },
          "ternary": {
           "aaxis": {
            "gridcolor": "white",
            "linecolor": "white",
            "ticks": ""
           },
           "baxis": {
            "gridcolor": "white",
            "linecolor": "white",
            "ticks": ""
           },
           "bgcolor": "#E5ECF6",
           "caxis": {
            "gridcolor": "white",
            "linecolor": "white",
            "ticks": ""
           }
          },
          "title": {
           "x": 0.05
          },
          "xaxis": {
           "automargin": true,
           "gridcolor": "white",
           "linecolor": "white",
           "ticks": "",
           "title": {
            "standoff": 15
           },
           "zerolinecolor": "white",
           "zerolinewidth": 2
          },
          "yaxis": {
           "automargin": true,
           "gridcolor": "white",
           "linecolor": "white",
           "ticks": "",
           "title": {
            "standoff": 15
           },
           "zerolinecolor": "white",
           "zerolinewidth": 2
          }
         }
        },
        "title": {
         "text": "Зависимость метрики R2 от глубины дерева"
        },
        "width": 800,
        "xaxis": {
         "title": {
          "text": "Глубина дерева"
         }
        },
        "yaxis": {
         "title": {
          "text": "Метрика R2"
         }
        }
       }
      }
     },
     "metadata": {},
     "output_type": "display_data"
    }
   ],
   "source": [
    "# подберём оптимальные параметры глубины дерева\n",
    "max_depths = range(5, 20)\n",
    "\n",
    "def tree_depths(X_train, X_test, y_train, y_test):\n",
    "  R_2_train = []\n",
    "  R_2_test = []\n",
    "  for depth in max_depths:\n",
    "    model_tree = tree.DecisionTreeRegressor(max_depth=depth, random_state=42).fit(X_train, y_train)\n",
    "    y_train_predict = model_tree.predict(X_train)\n",
    "    y_test_predict = model_tree.predict(X_test)\n",
    "    R_2_tr = round(metrics.r2_score(y_train, y_train_predict), 2)\n",
    "    R_2_tes = round(metrics.r2_score(y_test, y_test_predict), 2)\n",
    "    R_2_train.append(R_2_tr)\n",
    "    R_2_test.append(R_2_tes)\n",
    "\n",
    "  fig = go.Figure()\n",
    "  fig.add_trace(go.Scatter(x=list(max_depths), y=R_2_train, name='Train'))\n",
    "  fig.add_trace(go.Scatter(x=list(max_depths), y=R_2_test, name='Test'))\n",
    "  fig.update_xaxes(title='Глубина дерева')\n",
    "  fig.update_yaxes(title='Метрика R2')\n",
    "  fig.update_layout(title='Зависимость метрики R2 от глубины дерева', height=800, width=800)\n",
    "  return fig.show()\n",
    "\n",
    "tree_depths(X_train_scal, X_test_scal, y_train, y_test)"
   ]
  },
  {
   "cell_type": "markdown",
   "metadata": {},
   "source": [
    "Тут можно взять 11 глубину деревьев и построить модель"
   ]
  },
  {
   "cell_type": "code",
   "execution_count": 37,
   "metadata": {},
   "outputs": [
    {
     "name": "stdout",
     "output_type": "stream",
     "text": [
      "Train R^2: 0.676\n",
      "Train MAE: 87075.771\n",
      "Train MAPE: 30.914%\n",
      "\n",
      "\n",
      "Test R^2: 0.650\n",
      "Test MAE: 90287.721\n",
      "Test MAPE: 31.942%\n"
     ]
    }
   ],
   "source": [
    "model_tree = tree.DecisionTreeRegressor(random_state=42, max_depth=11)\n",
    "model_tree.fit(X_train_scal[best_features], y_train)\n",
    "\n",
    "y_train_predict = model_tree.predict(X_train_scal[best_features])\n",
    "y_test_predict = model_tree.predict(X_test_scal[best_features])\n",
    "\n",
    "s7 = print_metrics('DT depth-10', y_train, y_train_predict, y_test, y_test_predict)"
   ]
  },
  {
   "cell_type": "markdown",
   "metadata": {},
   "source": [
    "Метрики существенно улучшились"
   ]
  },
  {
   "cell_type": "markdown",
   "metadata": {},
   "source": [
    "## Ансамблевые методы\n",
    "\n",
    "Первой ансамблевой моделью будет **бэггинг** и его разновидность - модель случайного леса."
   ]
  },
  {
   "cell_type": "code",
   "execution_count": 38,
   "metadata": {},
   "outputs": [
    {
     "name": "stdout",
     "output_type": "stream",
     "text": [
      "Train R^2: 0.708\n",
      "Train MAE: 83125.834\n",
      "Train MAPE: 29.918%\n",
      "\n",
      "\n",
      "Test R^2: 0.689\n",
      "Test MAE: 85465.743\n",
      "Test MAPE: 30.785%\n"
     ]
    }
   ],
   "source": [
    "# бэггинг случайный лес\n",
    "random_forest = ensemble.RandomForestRegressor(n_estimators=100,\n",
    "                                               max_depth=11,\n",
    "                                               min_samples_split = 20,                    \n",
    "                                               random_state=42)\n",
    "\n",
    "random_forest.fit(X_train_scal[best_features], y_train)\n",
    "\n",
    "y_train_predict = random_forest.predict(X_train_scal[best_features])\n",
    "y_test_predict = random_forest.predict(X_test_scal[best_features])\n",
    "\n",
    "s8 = print_metrics('RFR', y_train, y_train_predict, y_test, y_test_predict)"
   ]
  },
  {
   "cell_type": "markdown",
   "metadata": {},
   "source": [
    "Благодаря параллельному обучению нескольких деревьев модель случайного леса дала нам небольшой прирост качества по сравнению с обычным деревом решений."
   ]
  },
  {
   "cell_type": "markdown",
   "metadata": {},
   "source": [
    "Далее реализуем модель адаптивного бустинга **AdaBoost**"
   ]
  },
  {
   "cell_type": "code",
   "execution_count": 39,
   "metadata": {},
   "outputs": [
    {
     "name": "stdout",
     "output_type": "stream",
     "text": [
      "Train R^2: 0.702\n",
      "Train MAE: 83611.881\n",
      "Train MAPE: 30.029%\n",
      "\n",
      "\n",
      "Test R^2: 0.681\n",
      "Test MAE: 86510.299\n",
      "Test MAPE: 31.033%\n"
     ]
    }
   ],
   "source": [
    "# бустинг\n",
    "dt = tree.DecisionTreeRegressor(\n",
    "    max_depth=11, #максимальная глубина дерева\n",
    "    random_state=42 #датчик генератора случайных чисел\n",
    ")\n",
    "# Создаем объект класса AdaBoost\n",
    "ada = AdaBoostRegressor(\n",
    "    estimator=dt,\n",
    "    random_state=42, #датчик генератора случайных чисел\n",
    "    n_estimators=50, #количество моделей в ансамбле\n",
    "    learning_rate=0.01\n",
    ")\n",
    "# Обучаем модель\n",
    "ada.fit(X_train_scal[best_features], y_train)\n",
    "\n",
    "y_train_predict  = ada.predict(X_train_scal[best_features])\n",
    "y_test_predict = ada.predict(X_test_scal[best_features])\n",
    "\n",
    "s9 = print_metrics('AdaBoost', y_train, y_train_predict, y_test, y_test_predict)"
   ]
  },
  {
   "cell_type": "markdown",
   "metadata": {},
   "source": [
    "Практически не получили улучшения качества метрик."
   ]
  },
  {
   "cell_type": "markdown",
   "metadata": {},
   "source": [
    "Также построим модель градиентного бустинга над деревьями решений **GBDT**"
   ]
  },
  {
   "cell_type": "code",
   "execution_count": 40,
   "metadata": {},
   "outputs": [
    {
     "name": "stdout",
     "output_type": "stream",
     "text": [
      "Train R^2: 0.827\n",
      "Train MAE: 63489.742\n",
      "Train MAPE: 23.294%\n",
      "\n",
      "\n",
      "Test R^2: 0.786\n",
      "Test MAE: 69399.372\n",
      "Test MAPE: 25.133%\n"
     ]
    }
   ],
   "source": [
    "# градиентный бустинг\n",
    "\n",
    "# Создаем объект класса градиентный бустинг\n",
    "gb = GradientBoostingRegressor(\n",
    "    max_depth=11, #максимальная глубина дерева\n",
    "    n_estimators=300, #количество деревьев в ансамбле\n",
    "    random_state=42, #генератор случайных чисел\n",
    "    learning_rate=0.01 \n",
    ")\n",
    "\n",
    "# Обучаем модель\n",
    "gb.fit(X_train_scal[best_features], y_train)\n",
    "\n",
    "y_train_predict  = gb.predict(X_train_scal[best_features])\n",
    "y_test_predict = gb.predict(X_test_scal[best_features])\n",
    "\n",
    "s10 = print_metrics('GBDT', y_train, y_train_predict, y_test, y_test_predict)"
   ]
  },
  {
   "cell_type": "markdown",
   "metadata": {},
   "source": [
    "Ну и последний из ансамблевых методов - **стекинг**. Сделаем сначала на простых моделях."
   ]
  },
  {
   "cell_type": "code",
   "execution_count": 41,
   "metadata": {},
   "outputs": [
    {
     "name": "stdout",
     "output_type": "stream",
     "text": [
      "Train R^2: 0.680\n",
      "Train MAE: 87280.009\n",
      "Train MAPE: 31.011%\n",
      "\n",
      "\n",
      "Test R^2: 0.657\n",
      "Test MAE: 89925.112\n",
      "Test MAPE: 31.964%\n"
     ]
    }
   ],
   "source": [
    "# Создаем список базовых моделей\n",
    "estimators = [\n",
    "    ('dt', tree.DecisionTreeRegressor(random_state=42, max_depth=11)),\n",
    "    ('r',  RidgeCV())\n",
    "]\n",
    "# Создаем объект класса стекинг\n",
    "reg = StackingRegressor(\n",
    "    estimators=estimators, # Передаем список базовых моделей\n",
    "    final_estimator=ensemble.RandomForestRegressor(n_estimators=100,\n",
    "                                               max_depth=11,\n",
    "                                               min_samples_split = 20,             \n",
    "                                               random_state=42) # В качестве метамодели используем RFR\n",
    ")\n",
    "# Обучаем модель\n",
    "reg.fit(X_train_scal[best_features], y_train)\n",
    "\n",
    "# Делаем предсказание классов с помощью метода predict(), а затем считаем метрики:\n",
    "y_train_predict  = reg.predict(X_train_scal[best_features])\n",
    "y_test_predict = reg.predict(X_test_scal[best_features])\n",
    "\n",
    "s11 = print_metrics('Stacking', y_train, y_train_predict, y_test, y_test_predict)"
   ]
  },
  {
   "cell_type": "markdown",
   "metadata": {},
   "source": [
    "## CatBoost"
   ]
  },
  {
   "cell_type": "code",
   "execution_count": 42,
   "metadata": {},
   "outputs": [
    {
     "name": "stdout",
     "output_type": "stream",
     "text": [
      "Train R^2: 0.804\n",
      "Train MAE: 65496.327\n",
      "Train MAPE: 21.685%\n",
      "\n",
      "\n",
      "Test R^2: 0.795\n",
      "Test MAE: 66945.593\n",
      "Test MAPE: 22.285%\n"
     ]
    }
   ],
   "source": [
    "catmodel = CatBoostRegressor(random_state=42, verbose=False)\n",
    "catmodel.fit(X_train_scal[best_features], y_train)\n",
    "\n",
    "y_train_predict  = catmodel.predict(X_train_scal[best_features])\n",
    "y_test_predict = catmodel.predict(X_test_scal[best_features])\n",
    "\n",
    "s12 = print_metrics('CatBoost top25', y_train, y_train_predict, y_test, y_test_predict)"
   ]
  },
  {
   "cell_type": "markdown",
   "metadata": {},
   "source": [
    "По сравенению со всеми предыдущими моделями это лучший результат. Попробуем построить эту же модель на всех предикторах."
   ]
  },
  {
   "cell_type": "code",
   "execution_count": 43,
   "metadata": {},
   "outputs": [
    {
     "name": "stdout",
     "output_type": "stream",
     "text": [
      "Train R^2: 0.817\n",
      "Train MAE: 63431.126\n",
      "Train MAPE: 20.982%\n",
      "\n",
      "\n",
      "Test R^2: 0.807\n",
      "Test MAE: 65037.299\n",
      "Test MAPE: 21.658%\n"
     ]
    }
   ],
   "source": [
    "catmodel = CatBoostRegressor(random_state=42, verbose=False)\n",
    "catmodel.fit(X_train_scal, y_train)\n",
    "\n",
    "y_train_predict  = catmodel.predict(X_train_scal)\n",
    "y_test_predict = catmodel.predict(X_test_scal)\n",
    "\n",
    "s13 = print_metrics('CatBoost full',y_train, y_train_predict, y_test, y_test_predict)"
   ]
  },
  {
   "cell_type": "markdown",
   "metadata": {},
   "source": [
    "Получили еще немного улучшение. Проверим какие предикторы лучше всего подходят для этой модели"
   ]
  },
  {
   "cell_type": "code",
   "execution_count": 44,
   "metadata": {},
   "outputs": [
    {
     "data": {
      "text/html": [
       "<div>\n",
       "<style scoped>\n",
       "    .dataframe tbody tr th:only-of-type {\n",
       "        vertical-align: middle;\n",
       "    }\n",
       "\n",
       "    .dataframe tbody tr th {\n",
       "        vertical-align: top;\n",
       "    }\n",
       "\n",
       "    .dataframe thead th {\n",
       "        text-align: right;\n",
       "    }\n",
       "</style>\n",
       "<table border=\"1\" class=\"dataframe\">\n",
       "  <thead>\n",
       "    <tr style=\"text-align: right;\">\n",
       "      <th></th>\n",
       "      <th>feature_importance</th>\n",
       "      <th>feature_names</th>\n",
       "    </tr>\n",
       "  </thead>\n",
       "  <tbody>\n",
       "    <tr>\n",
       "      <th>6</th>\n",
       "      <td>33.249314</td>\n",
       "      <td>LNG</td>\n",
       "    </tr>\n",
       "    <tr>\n",
       "      <th>5</th>\n",
       "      <td>19.661002</td>\n",
       "      <td>LAT</td>\n",
       "    </tr>\n",
       "    <tr>\n",
       "      <th>2</th>\n",
       "      <td>18.968460</td>\n",
       "      <td>sqft</td>\n",
       "    </tr>\n",
       "    <tr>\n",
       "      <th>8</th>\n",
       "      <td>6.587667</td>\n",
       "      <td>year_built</td>\n",
       "    </tr>\n",
       "    <tr>\n",
       "      <th>12</th>\n",
       "      <td>5.301526</td>\n",
       "      <td>mean_school_rating</td>\n",
       "    </tr>\n",
       "    <tr>\n",
       "      <th>4</th>\n",
       "      <td>3.021015</td>\n",
       "      <td>stories</td>\n",
       "    </tr>\n",
       "    <tr>\n",
       "      <th>0</th>\n",
       "      <td>2.736209</td>\n",
       "      <td>baths</td>\n",
       "    </tr>\n",
       "    <tr>\n",
       "      <th>9</th>\n",
       "      <td>2.682709</td>\n",
       "      <td>lotsize</td>\n",
       "    </tr>\n",
       "    <tr>\n",
       "      <th>13</th>\n",
       "      <td>1.326450</td>\n",
       "      <td>mean_school_distance</td>\n",
       "    </tr>\n",
       "    <tr>\n",
       "      <th>3</th>\n",
       "      <td>0.950753</td>\n",
       "      <td>beds</td>\n",
       "    </tr>\n",
       "  </tbody>\n",
       "</table>\n",
       "</div>"
      ],
      "text/plain": [
       "    feature_importance         feature_names\n",
       "6            33.249314                   LNG\n",
       "5            19.661002                   LAT\n",
       "2            18.968460                  sqft\n",
       "8             6.587667            year_built\n",
       "12            5.301526    mean_school_rating\n",
       "4             3.021015               stories\n",
       "0             2.736209                 baths\n",
       "9             2.682709               lotsize\n",
       "13            1.326450  mean_school_distance\n",
       "3             0.950753                  beds"
      ]
     },
     "execution_count": 44,
     "metadata": {},
     "output_type": "execute_result"
    }
   ],
   "source": [
    "# признаки и их веса вносимые в модель\n",
    "best_feature_cat = pd.DataFrame({'feature_importance': catmodel.get_feature_importance(), \n",
    "              'feature_names':X_train_scal.columns}).sort_values(by=['feature_importance'], \n",
    "                                                           ascending=False)\n",
    "# топ-10 признаков по весам\n",
    "new_best = best_feature_cat['feature_names'].iloc[:10]\n",
    "best_feature_cat[:10]"
   ]
  },
  {
   "cell_type": "markdown",
   "metadata": {},
   "source": [
    "Всё закономерно, как и в реальной жизни :-) на стоимость влияют такие параметры как местоположение, площадь дома, новизна дома, количество спален, ванных, этажность, размер участка, а также рейтинг и близость школ поблизости!"
   ]
  },
  {
   "cell_type": "code",
   "execution_count": 45,
   "metadata": {},
   "outputs": [
    {
     "name": "stdout",
     "output_type": "stream",
     "text": [
      "Train R^2: 0.807\n",
      "Train MAE: 65401.240\n",
      "Train MAPE: 22.062%\n",
      "\n",
      "\n",
      "Test R^2: 0.797\n",
      "Test MAE: 66840.645\n",
      "Test MAPE: 22.667%\n"
     ]
    }
   ],
   "source": [
    "catmodel = CatBoostRegressor(random_state=42, verbose=False)\n",
    "catmodel.fit(X_train_scal[new_best], y_train)\n",
    "\n",
    "y_train_predict  = catmodel.predict(X_train_scal[new_best])\n",
    "y_test_predict = catmodel.predict(X_test_scal[new_best])\n",
    "\n",
    "s14 = print_metrics('CatBoost top10', y_train, y_train_predict, y_test, y_test_predict)"
   ]
  },
  {
   "cell_type": "markdown",
   "metadata": {},
   "source": [
    "## XGBoost"
   ]
  },
  {
   "cell_type": "code",
   "execution_count": 46,
   "metadata": {},
   "outputs": [
    {
     "name": "stdout",
     "output_type": "stream",
     "text": [
      "Train R^2: 0.815\n",
      "Train MAE: 64444.090\n",
      "Train MAPE: 21.767%\n",
      "\n",
      "\n",
      "Test R^2: 0.796\n",
      "Test MAE: 67128.551\n",
      "Test MAPE: 22.745%\n"
     ]
    }
   ],
   "source": [
    "xgbmodel = xgb.XGBRegressor(random_state=42)\n",
    "xgbmodel.fit(X_train_scal[new_best], y_train)\n",
    "y_train_predict  = xgbmodel.predict(X_train_scal[new_best])\n",
    "y_test_predict = xgbmodel.predict(X_test_scal[new_best])\n",
    "\n",
    "s15 = print_metrics('XGBoost top10',y_train, y_train_predict, y_test, y_test_predict)"
   ]
  },
  {
   "cell_type": "code",
   "execution_count": 47,
   "metadata": {},
   "outputs": [
    {
     "data": {
      "text/plain": [
       "<Axes: title={'center': 'Feature importance'}, xlabel='F score', ylabel='Features'>"
      ]
     },
     "execution_count": 47,
     "metadata": {},
     "output_type": "execute_result"
    },
    {
     "data": {
      "image/png": "[encoded data removed]",
      "text/plain": [
       "<Figure size 1500x1500 with 1 Axes>"
      ]
     },
     "metadata": {},
     "output_type": "display_data"
    }
   ],
   "source": [
    "fig, ax = plt.subplots(figsize = (15,15))\n",
    "xgb.plot_importance(xgbmodel, ax = ax, height=0.5)"
   ]
  },
  {
   "cell_type": "markdown",
   "metadata": {},
   "source": [
    "Если не смотреть на CatBoost и XGBoost, то лучшие результаты до этого показал градиентный бустинг над деревьями решений (GBDT) на 25 предикторах. Попробуем теперь обучить ее на лучших 10 предикторах, которые мы определили для CatBoost."
   ]
  },
  {
   "cell_type": "code",
   "execution_count": 48,
   "metadata": {},
   "outputs": [
    {
     "name": "stdout",
     "output_type": "stream",
     "text": [
      "Train R^2: 0.839\n",
      "Train MAE: 61501.275\n",
      "Train MAPE: 22.991%\n",
      "\n",
      "\n",
      "Test R^2: 0.794\n",
      "Test MAE: 68075.815\n",
      "Test MAPE: 25.011%\n"
     ]
    }
   ],
   "source": [
    "# градиентный бустинг\n",
    "\n",
    "# Создаем объект класса градиентный бустинг\n",
    "gb = GradientBoostingRegressor(\n",
    "    max_depth=11, #максимальная глубина дерева\n",
    "    n_estimators=300, #количество деревьев в ансамбле\n",
    "    random_state=42, #генератор случайных чисел\n",
    "    learning_rate=0.01 \n",
    ")\n",
    "\n",
    "# Обучаем модель\n",
    "gb.fit(X_train_scal[new_best], y_train)\n",
    "\n",
    "y_train_predict  = gb.predict(X_train_scal[new_best])\n",
    "y_test_predict = gb.predict(X_test_scal[new_best])\n",
    "\n",
    "s16 = print_metrics('GBDT top10', y_train, y_train_predict, y_test, y_test_predict)"
   ]
  },
  {
   "cell_type": "markdown",
   "metadata": {},
   "source": [
    "Что интересно, одна и та же модель на 10 признаках отработала чуть лучше, чем на полном наборе."
   ]
  },
  {
   "cell_type": "markdown",
   "metadata": {},
   "source": [
    "Теперь попробуем проапгрейдить модель стекинга. Обучим её на наших 10 лучших предикторах, а в качестве базовых моделей возьмём 4 различных моделей, которые мы ранее использовали:\n",
    "- GradientBoostingRegressor;\n",
    "- CatBoostRegressor;\n",
    "- DecisionTreeRegressor;\n",
    "- RidgeCV.\n",
    "\n",
    "В качестве метамодели используем XGBoost. "
   ]
  },
  {
   "cell_type": "code",
   "execution_count": 49,
   "metadata": {},
   "outputs": [
    {
     "name": "stdout",
     "output_type": "stream",
     "text": [
      "Train R^2: 0.862\n",
      "Train MAE: 55317.991\n",
      "Train MAPE: 18.932%\n",
      "\n",
      "\n",
      "Test R^2: 0.819\n",
      "Test MAE: 61840.627\n",
      "Test MAPE: 20.792%\n"
     ]
    }
   ],
   "source": [
    "# Создаем список базовых моделей\n",
    "estimators = [\n",
    "    ('gbdt', GradientBoostingRegressor(\n",
    "                                            max_depth=11, #максимальная глубина дерева\n",
    "                                            n_estimators=300, #количество деревьев в ансамбле\n",
    "                                            random_state=42, #генератор случайных чисел\n",
    "                                            learning_rate=0.01 )),\n",
    "    ('cat',  CatBoostRegressor(random_state=42, verbose=False)), \n",
    "    ('dt', tree.DecisionTreeRegressor(random_state=42, max_depth=11)),\n",
    "    ('r', RidgeCV())\n",
    "]\n",
    "# Создаем объект класса стекинг\n",
    "reg = StackingRegressor(\n",
    "    estimators=estimators, # Передаем список базовых моделей\n",
    "    final_estimator=xgb.XGBRegressor()# В качестве метамодели используем xgb\n",
    ")\n",
    "# Обучаем модель\n",
    "reg.fit(X_train_scal[new_best], y_train)\n",
    "\n",
    "# Делаем предсказание классов с помощью метода predict(), а затем считаем метрики:\n",
    "y_train_predict  = reg.predict(X_train_scal[new_best])\n",
    "y_test_predict = reg.predict(X_test_scal[new_best])\n",
    "\n",
    "s17 = print_metrics('Stacking GBDT+cat+dt+RidgeCV > xgb', y_train, y_train_predict, y_test, y_test_predict)"
   ]
  },
  {
   "cell_type": "markdown",
   "metadata": {},
   "source": [
    "## Подбор гиперпараметров"
   ]
  },
  {
   "cell_type": "markdown",
   "metadata": {},
   "source": [
    "Теперь оценим ряд моделей с подбором гипермараметров. Будем использовать:\n",
    "+ GridSearchCV для DecisionTreeRegressor\n",
    "+ RandomizedSearchCV для GradientBoostingRegressor\n",
    "+ Optuna для XGBRegressor"
   ]
  },
  {
   "cell_type": "markdown",
   "metadata": {},
   "source": [
    "#### GridSearchCV для DecisionTreeRegressor"
   ]
  },
  {
   "cell_type": "code",
   "execution_count": 50,
   "metadata": {},
   "outputs": [
    {
     "name": "stdout",
     "output_type": "stream",
     "text": [
      "Train R^2: 0.673\n",
      "Train MAE: 87731.106\n",
      "Train MAPE: 31.091%\n",
      "\n",
      "\n",
      "Test R^2: 0.654\n",
      "Test MAE: 90056.300\n",
      "Test MAPE: 31.894%\n",
      "Наилучшие значения гиперпараметров: {'max_depth': 11, 'min_samples_leaf': 9}\n"
     ]
    }
   ],
   "source": [
    "param_grid = {'min_samples_leaf': list(np.linspace(1, 100, 50, dtype=int)),\n",
    "              'max_depth': [10, 11]\n",
    "              }\n",
    "            \n",
    "grid_search_tree = GridSearchCV(\n",
    "    estimator=tree.DecisionTreeRegressor(random_state=42), \n",
    "    param_grid=param_grid, \n",
    "    cv=5,\n",
    "    n_jobs = -1\n",
    ")  \n",
    "\n",
    "grid_search_tree.fit(X_train_scal[best_features], y_train) \n",
    "\n",
    "y_train_predict = grid_search_tree.predict(X_train_scal[best_features])\n",
    "y_test_predict = grid_search_tree.predict(X_test_scal[best_features])\n",
    "\n",
    "s18 = print_metrics('DT+GridSearchCV', y_train, y_train_predict, y_test, y_test_predict)\n",
    "print(\"Наилучшие значения гиперпараметров: {}\".format(grid_search_tree.best_params_))"
   ]
  },
  {
   "cell_type": "markdown",
   "metadata": {},
   "source": [
    "#### RandomizedSearchCV для GradientBoostingRegressor"
   ]
  },
  {
   "cell_type": "code",
   "execution_count": 55,
   "metadata": {},
   "outputs": [
    {
     "name": "stdout",
     "output_type": "stream",
     "text": [
      "Train R^2: 0.950\n",
      "Train MAE: 33506.433\n",
      "Train MAPE: 11.649%\n",
      "\n",
      "\n",
      "Test R^2: 0.859\n",
      "Test MAE: 52776.609\n",
      "Test MAPE: 17.368%\n",
      "Наилучшие значения гиперпараметров: {'n_estimators': 300, 'learning_rate': 0.1}\n"
     ]
    }
   ],
   "source": [
    "param_distributions = {'n_estimators': [200, 300],\n",
    "              'learning_rate': [0.01, 0.1]\n",
    "              }\n",
    "            \n",
    "random_search_GB = RandomizedSearchCV(\n",
    "    estimator=GradientBoostingRegressor(random_state=42, max_depth=11), \n",
    "    param_distributions=param_distributions, \n",
    "    cv=5,\n",
    "    n_iter = 10, \n",
    "    n_jobs = -1\n",
    ")  \n",
    "random_search_GB.fit(X_train_scal[best_features], y_train) \n",
    "\n",
    "y_train_predict = random_search_GB.predict(X_train_scal[best_features])\n",
    "y_test_predict = random_search_GB.predict(X_test_scal[best_features])\n",
    "\n",
    "s19 = print_metrics('GBDT top10 + RandomizedSearchCV', y_train, y_train_predict, y_test, y_test_predict)\n",
    "print(\"Наилучшие значения гиперпараметров: {}\".format(random_search_GB.best_params_))"
   ]
  },
  {
   "cell_type": "markdown",
   "metadata": {},
   "source": [
    "#### Optuna для XGBRegressor"
   ]
  },
  {
   "cell_type": "code",
   "execution_count": 51,
   "metadata": {},
   "outputs": [
    {
     "name": "stderr",
     "output_type": "stream",
     "text": [
      "[I 2024-11-26 20:05:39,016] A new study created in memory with name: no-name-067d2c97-6ac1-4e7b-b487-3879d5622850\n",
      "[I 2024-11-26 20:05:41,947] Trial 0 finished with value: 78275.76356076797 and parameters: {'learning_rate': 0.9492228556375347, 'max_depth': 9, 'subsample': 0.607671936391289, 'colsample_bytree': 0.9682339595715979, 'random_state': 42}. Best is trial 0 with value: 78275.76356076797.\n",
      "[I 2024-11-26 20:05:45,651] Trial 1 finished with value: 154385.64549415643 and parameters: {'learning_rate': 0.001867751347872329, 'max_depth': 10, 'subsample': 0.8853240692858165, 'colsample_bytree': 0.6641809635906688, 'random_state': 42}. Best is trial 0 with value: 78275.76356076797.\n",
      "[I 2024-11-26 20:05:50,748] Trial 2 finished with value: 169375.8182694801 and parameters: {'learning_rate': 2.6059390443724717e-05, 'max_depth': 11, 'subsample': 0.9072145456463863, 'colsample_bytree': 0.8910473638958112, 'random_state': 42}. Best is trial 0 with value: 78275.76356076797.\n",
      "[I 2024-11-26 20:05:54,028] Trial 3 finished with value: 66098.60723397974 and parameters: {'learning_rate': 0.5147258008748421, 'max_depth': 10, 'subsample': 0.564067330600653, 'colsample_bytree': 0.6510546970258011, 'random_state': 42}. Best is trial 3 with value: 66098.60723397974.\n",
      "[I 2024-11-26 20:05:57,185] Trial 4 finished with value: 161504.39122145358 and parameters: {'learning_rate': 0.0011202166145914997, 'max_depth': 9, 'subsample': 0.9878627991921594, 'colsample_bytree': 0.5313403286357905, 'random_state': 42}. Best is trial 3 with value: 66098.60723397974.\n",
      "[I 2024-11-26 20:06:02,107] Trial 5 finished with value: 169518.08023327962 and parameters: {'learning_rate': 1.3565287863457944e-05, 'max_depth': 11, 'subsample': 0.9094498703188345, 'colsample_bytree': 0.8154424160160744, 'random_state': 42}. Best is trial 3 with value: 66098.60723397974.\n",
      "[I 2024-11-26 20:06:06,880] Trial 6 finished with value: 59936.59044881323 and parameters: {'learning_rate': 0.1099343971828606, 'max_depth': 11, 'subsample': 0.6322850594490828, 'colsample_bytree': 0.6582060894971813, 'random_state': 42}. Best is trial 6 with value: 59936.59044881323.\n",
      "[I 2024-11-26 20:06:10,094] Trial 7 finished with value: 64313.767549221164 and parameters: {'learning_rate': 0.10773056718949577, 'max_depth': 9, 'subsample': 0.7179324724929229, 'colsample_bytree': 0.9311126073038201, 'random_state': 42}. Best is trial 6 with value: 59936.59044881323.\n",
      "[I 2024-11-26 20:06:13,596] Trial 8 finished with value: 59948.871284686225 and parameters: {'learning_rate': 0.20102356214803646, 'max_depth': 10, 'subsample': 0.5671482332522384, 'colsample_bytree': 0.8702211129743536, 'random_state': 42}. Best is trial 6 with value: 59936.59044881323.\n",
      "[I 2024-11-26 20:06:18,693] Trial 9 finished with value: 169162.46186748717 and parameters: {'learning_rate': 5.0657332968017504e-05, 'max_depth': 11, 'subsample': 0.6987804395697905, 'colsample_bytree': 0.7484087165060176, 'random_state': 42}. Best is trial 6 with value: 59936.59044881323.\n",
      "[I 2024-11-26 20:06:23,860] Trial 10 finished with value: 85410.56717641598 and parameters: {'learning_rate': 0.02169785884697503, 'max_depth': 11, 'subsample': 0.7809899555701612, 'colsample_bytree': 0.5241260464687943, 'random_state': 42}. Best is trial 6 with value: 59936.59044881323.\n",
      "[I 2024-11-26 20:06:28,157] Trial 11 finished with value: 81422.0255072894 and parameters: {'learning_rate': 0.023572858750112047, 'max_depth': 10, 'subsample': 0.5096547025539385, 'colsample_bytree': 0.8128786573820419, 'random_state': 42}. Best is trial 6 with value: 59936.59044881323.\n",
      "[I 2024-11-26 20:06:32,043] Trial 12 finished with value: 66535.61971975074 and parameters: {'learning_rate': 0.061450852149818075, 'max_depth': 10, 'subsample': 0.6368237984494792, 'colsample_bytree': 0.6493396551288336, 'random_state': 42}. Best is trial 6 with value: 59936.59044881323.\n",
      "[I 2024-11-26 20:06:35,596] Trial 13 finished with value: 61102.279864456395 and parameters: {'learning_rate': 0.20971068138143298, 'max_depth': 10, 'subsample': 0.5036530414471908, 'colsample_bytree': 0.7203169667622535, 'random_state': 42}. Best is trial 6 with value: 59936.59044881323.\n",
      "[I 2024-11-26 20:06:40,813] Trial 14 finished with value: 113219.29739823536 and parameters: {'learning_rate': 0.007818476990659273, 'max_depth': 11, 'subsample': 0.6475973439167367, 'colsample_bytree': 0.8478046787809145, 'random_state': 42}. Best is trial 6 with value: 59936.59044881323.\n",
      "[I 2024-11-26 20:06:45,166] Trial 15 finished with value: 167681.70155963494 and parameters: {'learning_rate': 0.00023751626399892603, 'max_depth': 10, 'subsample': 0.5758577576099831, 'colsample_bytree': 0.5930157563676182, 'random_state': 42}. Best is trial 6 with value: 59936.59044881323.\n",
      "[I 2024-11-26 20:06:50,502] Trial 16 finished with value: 57753.95605880241 and parameters: {'learning_rate': 0.23750301613679264, 'max_depth': 11, 'subsample': 0.7972195185735955, 'colsample_bytree': 0.7140553488817708, 'random_state': 42}. Best is trial 16 with value: 57753.95605880241.\n",
      "[I 2024-11-26 20:06:57,336] Trial 17 finished with value: 117932.23067473051 and parameters: {'learning_rate': 0.007617134082730212, 'max_depth': 11, 'subsample': 0.7949490515277723, 'colsample_bytree': 0.7167028149647532, 'random_state': 42}. Best is trial 16 with value: 57753.95605880241.\n",
      "[I 2024-11-26 20:07:02,523] Trial 18 finished with value: 78436.55244725394 and parameters: {'learning_rate': 0.02633843895255191, 'max_depth': 11, 'subsample': 0.8353759688611485, 'colsample_bytree': 0.5942831435037594, 'random_state': 42}. Best is trial 16 with value: 57753.95605880241.\n",
      "[I 2024-11-26 20:07:06,989] Trial 19 finished with value: 62349.82749778071 and parameters: {'learning_rate': 0.5112376134652673, 'max_depth': 11, 'subsample': 0.6901568835937087, 'colsample_bytree': 0.7758121438937121, 'random_state': 42}. Best is trial 16 with value: 57753.95605880241.\n",
      "[I 2024-11-26 20:07:11,892] Trial 20 finished with value: 64093.74120860421 and parameters: {'learning_rate': 0.06082434348077528, 'max_depth': 11, 'subsample': 0.752269206871259, 'colsample_bytree': 0.5979498432385496, 'random_state': 42}. Best is trial 16 with value: 57753.95605880241.\n",
      "[I 2024-11-26 20:07:15,277] Trial 21 finished with value: 60179.09991816489 and parameters: {'learning_rate': 0.20453429140410284, 'max_depth': 10, 'subsample': 0.5593982354667161, 'colsample_bytree': 0.6915304382028598, 'random_state': 42}. Best is trial 16 with value: 57753.95605880241.\n",
      "[I 2024-11-26 20:07:18,807] Trial 22 finished with value: 59466.948100025926 and parameters: {'learning_rate': 0.1993603995970214, 'max_depth': 10, 'subsample': 0.6609723310650606, 'colsample_bytree': 0.8796864445420248, 'random_state': 42}. Best is trial 16 with value: 57753.95605880241.\n",
      "[I 2024-11-26 20:07:22,852] Trial 23 finished with value: 75553.40769463492 and parameters: {'learning_rate': 0.8537364406130242, 'max_depth': 11, 'subsample': 0.6631332334470613, 'colsample_bytree': 0.767105989796496, 'random_state': 42}. Best is trial 16 with value: 57753.95605880241.\n",
      "[I 2024-11-26 20:07:26,309] Trial 24 finished with value: 126818.83266568734 and parameters: {'learning_rate': 0.0057535351928329655, 'max_depth': 9, 'subsample': 0.7268793867185613, 'colsample_bytree': 0.9882695520146394, 'random_state': 42}. Best is trial 16 with value: 57753.95605880241.\n",
      "[I 2024-11-26 20:07:30,064] Trial 25 finished with value: 64544.18019478217 and parameters: {'learning_rate': 0.07059043088235603, 'max_depth': 10, 'subsample': 0.8231060173663375, 'colsample_bytree': 0.9291071221476978, 'random_state': 42}. Best is trial 16 with value: 57753.95605880241.\n",
      "[I 2024-11-26 20:07:35,028] Trial 26 finished with value: 163994.61672663037 and parameters: {'learning_rate': 0.0005563123713355978, 'max_depth': 11, 'subsample': 0.7573974487341014, 'colsample_bytree': 0.8001450480639365, 'random_state': 42}. Best is trial 16 with value: 57753.95605880241.\n",
      "[I 2024-11-26 20:07:38,332] Trial 27 finished with value: 61992.95178135836 and parameters: {'learning_rate': 0.3486393476766157, 'max_depth': 10, 'subsample': 0.6155156526320419, 'colsample_bytree': 0.6277833295341799, 'random_state': 42}. Best is trial 16 with value: 57753.95605880241.\n",
      "[I 2024-11-26 20:07:43,213] Trial 28 finished with value: 73429.00860400923 and parameters: {'learning_rate': 0.0296949460129539, 'max_depth': 11, 'subsample': 0.6771094796412925, 'colsample_bytree': 0.7233968463668425, 'random_state': 42}. Best is trial 16 with value: 57753.95605880241.\n",
      "[I 2024-11-26 20:07:46,014] Trial 29 finished with value: 77231.23545826013 and parameters: {'learning_rate': 0.8812103338499108, 'max_depth': 9, 'subsample': 0.6007446347827146, 'colsample_bytree': 0.6823501698827986, 'random_state': 42}. Best is trial 16 with value: 57753.95605880241.\n",
      "[I 2024-11-26 20:07:49,499] Trial 30 finished with value: 58369.76737055279 and parameters: {'learning_rate': 0.2766372040480478, 'max_depth': 10, 'subsample': 0.8611671324878793, 'colsample_bytree': 0.9353273074751267, 'random_state': 42}. Best is trial 16 with value: 57753.95605880241.\n",
      "[I 2024-11-26 20:07:53,097] Trial 31 finished with value: 59991.94056441228 and parameters: {'learning_rate': 0.12909431996185805, 'max_depth': 10, 'subsample': 0.8530986684374612, 'colsample_bytree': 0.9448657477588078, 'random_state': 42}. Best is trial 16 with value: 57753.95605880241.\n",
      "[I 2024-11-26 20:07:56,387] Trial 32 finished with value: 58511.73443616742 and parameters: {'learning_rate': 0.36903652191639963, 'max_depth': 10, 'subsample': 0.9449627146750055, 'colsample_bytree': 0.8944757715230557, 'random_state': 42}. Best is trial 16 with value: 57753.95605880241.\n",
      "[I 2024-11-26 20:07:59,751] Trial 33 finished with value: 57816.136967851126 and parameters: {'learning_rate': 0.2718413004809009, 'max_depth': 10, 'subsample': 0.9635349722152867, 'colsample_bytree': 0.8975177490383096, 'random_state': 42}. Best is trial 16 with value: 57753.95605880241.\n",
      "[I 2024-11-26 20:08:03,052] Trial 34 finished with value: 59940.18552426675 and parameters: {'learning_rate': 0.5218378575865149, 'max_depth': 10, 'subsample': 0.9512567426341365, 'colsample_bytree': 0.9065469522661341, 'random_state': 42}. Best is trial 16 with value: 57753.95605880241.\n",
      "[I 2024-11-26 20:08:06,403] Trial 35 finished with value: 58768.34077138467 and parameters: {'learning_rate': 0.3956338173520752, 'max_depth': 10, 'subsample': 0.9297924163179734, 'colsample_bytree': 0.9964355506485983, 'random_state': 42}. Best is trial 16 with value: 57753.95605880241.\n",
      "[I 2024-11-26 20:08:09,690] Trial 36 finished with value: 70027.38155717964 and parameters: {'learning_rate': 0.9717143527682149, 'max_depth': 10, 'subsample': 0.9989964509643782, 'colsample_bytree': 0.8479911191044498, 'random_state': 42}. Best is trial 16 with value: 57753.95605880241.\n",
      "[I 2024-11-26 20:08:12,905] Trial 37 finished with value: 71534.98553998004 and parameters: {'learning_rate': 0.04820078465075908, 'max_depth': 9, 'subsample': 0.9494356858167203, 'colsample_bytree': 0.9632877390405512, 'random_state': 42}. Best is trial 16 with value: 57753.95605880241.\n",
      "[I 2024-11-26 20:08:17,089] Trial 38 finished with value: 147437.88977792594 and parameters: {'learning_rate': 0.0024245366469826004, 'max_depth': 10, 'subsample': 0.8771835805621369, 'colsample_bytree': 0.9007046112902146, 'random_state': 42}. Best is trial 16 with value: 57753.95605880241.\n",
      "[I 2024-11-26 20:08:20,444] Trial 39 finished with value: 58645.57479255802 and parameters: {'learning_rate': 0.2980446579295278, 'max_depth': 10, 'subsample': 0.8863379670428615, 'colsample_bytree': 0.8524475640525956, 'random_state': 42}. Best is trial 16 with value: 57753.95605880241.\n",
      "[I 2024-11-26 20:08:23,791] Trial 40 finished with value: 97004.15329377813 and parameters: {'learning_rate': 0.014681351510374916, 'max_depth': 9, 'subsample': 0.9487637470187027, 'colsample_bytree': 0.9621943576608093, 'random_state': 42}. Best is trial 16 with value: 57753.95605880241.\n",
      "[I 2024-11-26 20:08:27,125] Trial 41 finished with value: 58668.044658037645 and parameters: {'learning_rate': 0.3123890874491425, 'max_depth': 10, 'subsample': 0.8919124042539762, 'colsample_bytree': 0.8470399595362559, 'random_state': 42}. Best is trial 16 with value: 57753.95605880241.\n",
      "[I 2024-11-26 20:08:30,726] Trial 42 finished with value: 61664.685708866695 and parameters: {'learning_rate': 0.10183547654478164, 'max_depth': 10, 'subsample': 0.9776652353288223, 'colsample_bytree': 0.9260753983881438, 'random_state': 42}. Best is trial 16 with value: 57753.95605880241.\n",
      "[I 2024-11-26 20:08:34,244] Trial 43 finished with value: 59934.78131779197 and parameters: {'learning_rate': 0.14891380280974165, 'max_depth': 10, 'subsample': 0.8647352950902704, 'colsample_bytree': 0.8818755117219013, 'random_state': 42}. Best is trial 16 with value: 57753.95605880241.\n",
      "[I 2024-11-26 20:08:37,528] Trial 44 finished with value: 59203.49840753562 and parameters: {'learning_rate': 0.393442377649323, 'max_depth': 10, 'subsample': 0.9047518740677705, 'colsample_bytree': 0.8284222671462956, 'random_state': 42}. Best is trial 16 with value: 57753.95605880241.\n",
      "[I 2024-11-26 20:08:40,896] Trial 45 finished with value: 57935.505592326546 and parameters: {'learning_rate': 0.27239978196603476, 'max_depth': 10, 'subsample': 0.9209209857520927, 'colsample_bytree': 0.9088495957303819, 'random_state': 42}. Best is trial 16 with value: 57753.95605880241.\n",
      "[I 2024-11-26 20:08:45,114] Trial 46 finished with value: 69805.26102730085 and parameters: {'learning_rate': 0.0415700536475439, 'max_depth': 10, 'subsample': 0.9245766087097238, 'colsample_bytree': 0.9080791931230139, 'random_state': 42}. Best is trial 16 with value: 57753.95605880241.\n",
      "[I 2024-11-26 20:08:48,830] Trial 47 finished with value: 63418.91573530484 and parameters: {'learning_rate': 0.08135900415577141, 'max_depth': 10, 'subsample': 0.9672251071777261, 'colsample_bytree': 0.948299312241819, 'random_state': 42}. Best is trial 16 with value: 57753.95605880241.\n",
      "[I 2024-11-26 20:08:52,166] Trial 48 finished with value: 63949.049697479466 and parameters: {'learning_rate': 0.6409695384030856, 'max_depth': 10, 'subsample': 0.8150260954866164, 'colsample_bytree': 0.7814651923112509, 'random_state': 42}. Best is trial 16 with value: 57753.95605880241.\n",
      "[I 2024-11-26 20:08:56,316] Trial 49 finished with value: 93140.46650541294 and parameters: {'learning_rate': 0.014550168331434703, 'max_depth': 10, 'subsample': 0.9206157220925102, 'colsample_bytree': 0.9815793996692794, 'random_state': 42}. Best is trial 16 with value: 57753.95605880241.\n",
      "[I 2024-11-26 20:09:00,851] Trial 50 finished with value: 169075.4942629327 and parameters: {'learning_rate': 5.721670906612781e-05, 'max_depth': 10, 'subsample': 0.8511909979940215, 'colsample_bytree': 0.8669028643111177, 'random_state': 42}. Best is trial 16 with value: 57753.95605880241.\n",
      "[I 2024-11-26 20:09:04,302] Trial 51 finished with value: 58571.716185028956 and parameters: {'learning_rate': 0.24191560018366778, 'max_depth': 10, 'subsample': 0.9001512682990234, 'colsample_bytree': 0.921755024772255, 'random_state': 42}. Best is trial 16 with value: 57753.95605880241.\n",
      "[I 2024-11-26 20:09:07,770] Trial 52 finished with value: 58509.040350025156 and parameters: {'learning_rate': 0.23070636378620374, 'max_depth': 10, 'subsample': 0.7872550039161711, 'colsample_bytree': 0.9230454749874291, 'random_state': 42}. Best is trial 16 with value: 57753.95605880241.\n",
      "[I 2024-11-26 20:09:11,454] Trial 53 finished with value: 59713.96183662989 and parameters: {'learning_rate': 0.14129495120129176, 'max_depth': 10, 'subsample': 0.7873387368152739, 'colsample_bytree': 0.9449770120404252, 'random_state': 42}. Best is trial 16 with value: 57753.95605880241.\n",
      "[I 2024-11-26 20:09:14,805] Trial 54 finished with value: 61337.35433211195 and parameters: {'learning_rate': 0.5094189935523309, 'max_depth': 10, 'subsample': 0.8074554392176351, 'colsample_bytree': 0.8959001115896601, 'random_state': 42}. Best is trial 16 with value: 57753.95605880241.\n",
      "[I 2024-11-26 20:09:18,256] Trial 55 finished with value: 59416.03463965276 and parameters: {'learning_rate': 0.1643319133932572, 'max_depth': 10, 'subsample': 0.7689450842341262, 'colsample_bytree': 0.9679465857528768, 'random_state': 42}. Best is trial 16 with value: 57753.95605880241.\n",
      "[I 2024-11-26 20:09:21,856] Trial 56 finished with value: 62924.593724026345 and parameters: {'learning_rate': 0.09288906185921879, 'max_depth': 10, 'subsample': 0.7256490746884209, 'colsample_bytree': 0.8259246498796535, 'random_state': 42}. Best is trial 16 with value: 57753.95605880241.\n",
      "[I 2024-11-26 20:09:25,191] Trial 57 finished with value: 58481.96461675633 and parameters: {'learning_rate': 0.2690683555159192, 'max_depth': 10, 'subsample': 0.8372764613486126, 'colsample_bytree': 0.8673057873765001, 'random_state': 42}. Best is trial 16 with value: 57753.95605880241.\n",
      "[I 2024-11-26 20:09:28,525] Trial 58 finished with value: 63911.691003523214 and parameters: {'learning_rate': 0.6530682530850714, 'max_depth': 10, 'subsample': 0.8310801880740507, 'colsample_bytree': 0.8701961892539541, 'random_state': 42}. Best is trial 16 with value: 57753.95605880241.\n",
      "[I 2024-11-26 20:09:32,549] Trial 59 finished with value: 57622.64827256908 and parameters: {'learning_rate': 0.2348399085654823, 'max_depth': 11, 'subsample': 0.8506917424741013, 'colsample_bytree': 0.7944238300636134, 'random_state': 42}. Best is trial 59 with value: 57622.64827256908.\n",
      "[I 2024-11-26 20:09:37,281] Trial 60 finished with value: 66845.69442346293 and parameters: {'learning_rate': 0.04203007616724348, 'max_depth': 11, 'subsample': 0.8477836585477941, 'colsample_bytree': 0.7406744840455717, 'random_state': 42}. Best is trial 59 with value: 57622.64827256908.\n",
      "[I 2024-11-26 20:09:41,429] Trial 61 finished with value: 57096.03087243802 and parameters: {'learning_rate': 0.23379652266040798, 'max_depth': 11, 'subsample': 0.872905472516091, 'colsample_bytree': 0.7986456280811032, 'random_state': 42}. Best is trial 61 with value: 57096.03087243802.\n",
      "[I 2024-11-26 20:09:45,779] Trial 62 finished with value: 58770.38790098552 and parameters: {'learning_rate': 0.12170548893814939, 'max_depth': 11, 'subsample': 0.8737782522673405, 'colsample_bytree': 0.798494275834827, 'random_state': 42}. Best is trial 61 with value: 57096.03087243802.\n",
      "[I 2024-11-26 20:09:49,898] Trial 63 finished with value: 57361.45280225786 and parameters: {'learning_rate': 0.20621725110341338, 'max_depth': 11, 'subsample': 0.8069591190964559, 'colsample_bytree': 0.7633787412151611, 'random_state': 42}. Best is trial 61 with value: 57096.03087243802.\n",
      "[I 2024-11-26 20:09:54,032] Trial 64 finished with value: 57531.99597813466 and parameters: {'learning_rate': 0.18183881963042003, 'max_depth': 11, 'subsample': 0.8661617284877668, 'colsample_bytree': 0.7614503894426647, 'random_state': 42}. Best is trial 61 with value: 57096.03087243802.\n",
      "[I 2024-11-26 20:09:58,233] Trial 65 finished with value: 57375.58730575195 and parameters: {'learning_rate': 0.17654289868615267, 'max_depth': 11, 'subsample': 0.9162487079683175, 'colsample_bytree': 0.7599900452854309, 'random_state': 42}. Best is trial 61 with value: 57096.03087243802.\n",
      "[I 2024-11-26 20:10:02,851] Trial 66 finished with value: 62634.44237537854 and parameters: {'learning_rate': 0.06533389357177646, 'max_depth': 11, 'subsample': 0.8006009038674525, 'colsample_bytree': 0.7596627717543862, 'random_state': 42}. Best is trial 61 with value: 57096.03087243802.\n",
      "[I 2024-11-26 20:10:06,969] Trial 67 finished with value: 58106.64299189477 and parameters: {'learning_rate': 0.17633989994253052, 'max_depth': 11, 'subsample': 0.7684092783281161, 'colsample_bytree': 0.7031067501552901, 'random_state': 42}. Best is trial 61 with value: 57096.03087243802.\n",
      "[I 2024-11-26 20:10:11,020] Trial 68 finished with value: 65771.78787088837 and parameters: {'learning_rate': 0.626731259482379, 'max_depth': 11, 'subsample': 0.739849499708973, 'colsample_bytree': 0.7396745808225185, 'random_state': 42}. Best is trial 61 with value: 57096.03087243802.\n",
      "[I 2024-11-26 20:10:16,075] Trial 69 finished with value: 156718.9232968226 and parameters: {'learning_rate': 0.0013491458350253028, 'max_depth': 11, 'subsample': 0.9652860055461598, 'colsample_bytree': 0.7931207381170039, 'random_state': 42}. Best is trial 61 with value: 57096.03087243802.\n",
      "[I 2024-11-26 20:10:20,989] Trial 70 finished with value: 164497.17375986275 and parameters: {'learning_rate': 0.0005364150565925755, 'max_depth': 11, 'subsample': 0.818601509787256, 'colsample_bytree': 0.7546045674212218, 'random_state': 42}. Best is trial 61 with value: 57096.03087243802.\n",
      "[I 2024-11-26 20:10:24,907] Trial 71 finished with value: 59445.68727835402 and parameters: {'learning_rate': 0.45566481217956634, 'max_depth': 11, 'subsample': 0.9188215877741562, 'colsample_bytree': 0.7301996470533272, 'random_state': 42}. Best is trial 61 with value: 57096.03087243802.\n",
      "[I 2024-11-26 20:10:29,377] Trial 72 finished with value: 59773.74569358203 and parameters: {'learning_rate': 0.10238324427087947, 'max_depth': 11, 'subsample': 0.9346587792705481, 'colsample_bytree': 0.7733404489872376, 'random_state': 42}. Best is trial 61 with value: 57096.03087243802.\n",
      "[I 2024-11-26 20:10:33,860] Trial 73 finished with value: 58212.12313279065 and parameters: {'learning_rate': 0.1840585996983824, 'max_depth': 11, 'subsample': 0.8694043520678185, 'colsample_bytree': 0.6742341720137335, 'random_state': 42}. Best is trial 61 with value: 57096.03087243802.\n",
      "[I 2024-11-26 20:10:38,353] Trial 74 finished with value: 66036.7560675622 and parameters: {'learning_rate': 0.058039489945890296, 'max_depth': 11, 'subsample': 0.8972061469777238, 'colsample_bytree': 0.5009301186621475, 'random_state': 42}. Best is trial 61 with value: 57096.03087243802.\n",
      "[I 2024-11-26 20:10:42,362] Trial 75 finished with value: 58499.64865591567 and parameters: {'learning_rate': 0.3178601007159855, 'max_depth': 11, 'subsample': 0.8798890544645811, 'colsample_bytree': 0.7113014379160242, 'random_state': 42}. Best is trial 61 with value: 57096.03087243802.\n",
      "[I 2024-11-26 20:10:46,546] Trial 76 finished with value: 65483.97066175718 and parameters: {'learning_rate': 0.7608977168032964, 'max_depth': 11, 'subsample': 0.9103494057026229, 'colsample_bytree': 0.810369993357989, 'random_state': 42}. Best is trial 61 with value: 57096.03087243802.\n",
      "[I 2024-11-26 20:10:50,664] Trial 77 finished with value: 57183.69984483317 and parameters: {'learning_rate': 0.2239134901053617, 'max_depth': 11, 'subsample': 0.8331424180123592, 'colsample_bytree': 0.7844826085887046, 'random_state': 42}. Best is trial 61 with value: 57096.03087243802.\n",
      "[I 2024-11-26 20:10:55,589] Trial 78 finished with value: 71211.45794235382 and parameters: {'learning_rate': 0.031739066710180786, 'max_depth': 11, 'subsample': 0.831050541533246, 'colsample_bytree': 0.7881163966387902, 'random_state': 42}. Best is trial 61 with value: 57096.03087243802.\n",
      "[I 2024-11-26 20:10:59,850] Trial 79 finished with value: 58498.099509305874 and parameters: {'learning_rate': 0.13022158849736817, 'max_depth': 11, 'subsample': 0.8410604112293506, 'colsample_bytree': 0.7661610818702357, 'random_state': 42}. Best is trial 61 with value: 57096.03087243802.\n",
      "[I 2024-11-26 20:11:04,451] Trial 80 finished with value: 60956.09560006239 and parameters: {'learning_rate': 0.0859964333012706, 'max_depth': 11, 'subsample': 0.8606524746614774, 'colsample_bytree': 0.6468444397892483, 'random_state': 42}. Best is trial 61 with value: 57096.03087243802.\n",
      "[I 2024-11-26 20:11:08,569] Trial 81 finished with value: 57226.675423111745 and parameters: {'learning_rate': 0.21896347136281516, 'max_depth': 11, 'subsample': 0.888840829681173, 'colsample_bytree': 0.745092185564178, 'random_state': 42}. Best is trial 61 with value: 57096.03087243802.\n",
      "[I 2024-11-26 20:11:12,708] Trial 82 finished with value: 57541.723108219456 and parameters: {'learning_rate': 0.2077002797356099, 'max_depth': 11, 'subsample': 0.8150742370303339, 'colsample_bytree': 0.7469200506924849, 'random_state': 42}. Best is trial 61 with value: 57096.03087243802.\n",
      "[I 2024-11-26 20:11:16,971] Trial 83 finished with value: 57636.0552403446 and parameters: {'learning_rate': 0.19383748306710832, 'max_depth': 11, 'subsample': 0.8026997548012579, 'colsample_bytree': 0.7419865202675924, 'random_state': 42}. Best is trial 61 with value: 57096.03087243802.\n",
      "[I 2024-11-26 20:11:21,106] Trial 84 finished with value: 57751.97164046475 and parameters: {'learning_rate': 0.2051055986476568, 'max_depth': 11, 'subsample': 0.8217711640534601, 'colsample_bytree': 0.7364859756153502, 'random_state': 42}. Best is trial 61 with value: 57096.03087243802.\n",
      "[I 2024-11-26 20:11:25,328] Trial 85 finished with value: 57916.032246449715 and parameters: {'learning_rate': 0.1543841687669927, 'max_depth': 11, 'subsample': 0.8092221364250102, 'colsample_bytree': 0.7498506225239672, 'random_state': 42}. Best is trial 61 with value: 57096.03087243802.\n",
      "[I 2024-11-26 20:11:29,374] Trial 86 finished with value: 59560.89499560035 and parameters: {'learning_rate': 0.4293543985439052, 'max_depth': 11, 'subsample': 0.7756819235906309, 'colsample_bytree': 0.8164476910254014, 'random_state': 42}. Best is trial 61 with value: 57096.03087243802.\n",
      "[I 2024-11-26 20:11:33,730] Trial 87 finished with value: 59155.63657415848 and parameters: {'learning_rate': 0.10947953499961541, 'max_depth': 11, 'subsample': 0.8555956630253215, 'colsample_bytree': 0.780266705718386, 'random_state': 42}. Best is trial 61 with value: 57096.03087243802.\n",
      "[I 2024-11-26 20:11:38,294] Trial 88 finished with value: 61969.21509748152 and parameters: {'learning_rate': 0.07032433989204896, 'max_depth': 11, 'subsample': 0.8869666960729979, 'colsample_bytree': 0.7047455527253852, 'random_state': 42}. Best is trial 61 with value: 57096.03087243802.\n",
      "[I 2024-11-26 20:11:43,429] Trial 89 finished with value: 169553.59141627772 and parameters: {'learning_rate': 1.0182119390875299e-05, 'max_depth': 11, 'subsample': 0.8277032007309998, 'colsample_bytree': 0.805738166239959, 'random_state': 42}. Best is trial 61 with value: 57096.03087243802.\n",
      "[I 2024-11-26 20:11:48,684] Trial 90 finished with value: 132102.39188938896 and parameters: {'learning_rate': 0.004600904927459057, 'max_depth': 11, 'subsample': 0.8449842480153962, 'colsample_bytree': 0.7600702677797657, 'random_state': 42}. Best is trial 61 with value: 57096.03087243802.\n",
      "[I 2024-11-26 20:11:52,833] Trial 91 finished with value: 57384.05002158156 and parameters: {'learning_rate': 0.2197608102240364, 'max_depth': 11, 'subsample': 0.8205672601130948, 'colsample_bytree': 0.7332155984224173, 'random_state': 42}. Best is trial 61 with value: 57096.03087243802.\n",
      "[I 2024-11-26 20:11:56,965] Trial 92 finished with value: 57820.66295998968 and parameters: {'learning_rate': 0.22862466282282737, 'max_depth': 11, 'subsample': 0.8100330359309558, 'colsample_bytree': 0.6951304064535907, 'random_state': 42}. Best is trial 61 with value: 57096.03087243802.\n",
      "[I 2024-11-26 20:12:00,996] Trial 93 finished with value: 58249.33304903845 and parameters: {'learning_rate': 0.32519619304347736, 'max_depth': 11, 'subsample': 0.8010740583226024, 'colsample_bytree': 0.721516355599303, 'random_state': 42}. Best is trial 61 with value: 57096.03087243802.\n",
      "[I 2024-11-26 20:12:05,206] Trial 94 finished with value: 57661.65998714765 and parameters: {'learning_rate': 0.19417163111451058, 'max_depth': 11, 'subsample': 0.8658433421100357, 'colsample_bytree': 0.7471232431467999, 'random_state': 42}. Best is trial 61 with value: 57096.03087243802.\n",
      "[I 2024-11-26 20:12:09,302] Trial 95 finished with value: 62821.82691160069 and parameters: {'learning_rate': 0.5332032060262061, 'max_depth': 11, 'subsample': 0.7881382309602216, 'colsample_bytree': 0.7280606097166202, 'random_state': 42}. Best is trial 61 with value: 57096.03087243802.\n",
      "[I 2024-11-26 20:12:13,320] Trial 96 finished with value: 58892.41232928515 and parameters: {'learning_rate': 0.3635933794568223, 'max_depth': 11, 'subsample': 0.7603299684262095, 'colsample_bytree': 0.7842278183076794, 'random_state': 42}. Best is trial 61 with value: 57096.03087243802.\n",
      "[I 2024-11-26 20:12:17,732] Trial 97 finished with value: 58285.09605297353 and parameters: {'learning_rate': 0.146155311442825, 'max_depth': 11, 'subsample': 0.8852696706764283, 'colsample_bytree': 0.7683927255886471, 'random_state': 42}. Best is trial 61 with value: 57096.03087243802.\n",
      "[I 2024-11-26 20:12:22,055] Trial 98 finished with value: 58590.45798540208 and parameters: {'learning_rate': 0.12135580956064473, 'max_depth': 11, 'subsample': 0.7442314794728564, 'colsample_bytree': 0.8326530365418214, 'random_state': 42}. Best is trial 61 with value: 57096.03087243802.\n",
      "[I 2024-11-26 20:12:26,531] Trial 99 finished with value: 60288.07525870921 and parameters: {'learning_rate': 0.09328242570311829, 'max_depth': 11, 'subsample': 0.8400498651153941, 'colsample_bytree': 0.7951415954678376, 'random_state': 42}. Best is trial 61 with value: 57096.03087243802.\n"
     ]
    }
   ],
   "source": [
    "import optuna\n",
    "# настроим оптимизацию гиперпараметров для алгоритма XGBoost\n",
    "def optuna_xgb(trial):\n",
    "    param = {\n",
    "        'learning_rate': trial.suggest_loguniform('learning_rate', 1e-5, 1.0),\n",
    "        'max_depth': trial.suggest_int('max_depth', 9, 11),\n",
    "        'subsample': trial.suggest_uniform('subsample', 0.5, 1.0),\n",
    "        'colsample_bytree': trial.suggest_uniform('colsample_bytree', 0.5, 1.0),\n",
    "        'random_state': trial.suggest_int('random_state', 42, 42)\n",
    "    }\n",
    "    model = xgb.XGBRegressor(**param)\n",
    "    model.fit(X_train_scal[best_features], y_train)\n",
    "\n",
    "    y_test_predict = model.predict(X_test_scal[best_features])\n",
    "\n",
    "    test_mae = metrics.mean_absolute_error(y_test, y_test_predict)\n",
    "\n",
    "    return test_mae\n",
    "\n",
    "study = optuna.create_study(direction='minimize')\n",
    "study.optimize(optuna_xgb, n_trials=100)"
   ]
  },
  {
   "cell_type": "code",
   "execution_count": 52,
   "metadata": {},
   "outputs": [
    {
     "name": "stdout",
     "output_type": "stream",
     "text": [
      "Train R^2: 0.943\n",
      "Train MAE: 36030.835\n",
      "Train MAPE: 12.769%\n",
      "\n",
      "\n",
      "Test R^2: 0.852\n",
      "Test MAE: 54910.777\n",
      "Test MAPE: 18.507%\n"
     ]
    }
   ],
   "source": [
    "# строим модель на лучших подобранных параметрах\n",
    "param = study.best_params\n",
    "xgbmodel = xgb.XGBRegressor(**param)\n",
    "xgbmodel.fit(X_train_scal[new_best], y_train)\n",
    "y_train_predict  = xgbmodel.predict(X_train_scal[new_best])\n",
    "y_test_predict = xgbmodel.predict(X_test_scal[new_best])\n",
    "\n",
    "s20 = print_metrics('XGBoost top10 + Optuna',y_train, y_train_predict, y_test, y_test_predict)"
   ]
  },
  {
   "cell_type": "markdown",
   "metadata": {},
   "source": [
    "# Оценка моделей\n",
    "\n",
    "Создадим сводную таблицу по метрикам на обученных моделях."
   ]
  },
  {
   "cell_type": "code",
   "execution_count": 56,
   "metadata": {},
   "outputs": [
    {
     "data": {
      "text/html": [
       "<div>\n",
       "<style scoped>\n",
       "    .dataframe tbody tr th:only-of-type {\n",
       "        vertical-align: middle;\n",
       "    }\n",
       "\n",
       "    .dataframe tbody tr th {\n",
       "        vertical-align: top;\n",
       "    }\n",
       "\n",
       "    .dataframe thead th {\n",
       "        text-align: right;\n",
       "    }\n",
       "</style>\n",
       "<table border=\"1\" class=\"dataframe\">\n",
       "  <thead>\n",
       "    <tr style=\"text-align: right;\">\n",
       "      <th></th>\n",
       "      <th>Model</th>\n",
       "      <th>Train R2_v2</th>\n",
       "      <th>Train MAE_v2</th>\n",
       "      <th>Train MAPE_v2</th>\n",
       "      <th>Test R2_v2</th>\n",
       "      <th>Test MAE_v2</th>\n",
       "      <th>Test MAPE_v2</th>\n",
       "    </tr>\n",
       "  </thead>\n",
       "  <tbody>\n",
       "    <tr>\n",
       "      <th>0</th>\n",
       "      <td>LR full</td>\n",
       "      <td>0.35</td>\n",
       "      <td>129750.19</td>\n",
       "      <td>48.88</td>\n",
       "      <td>0.36</td>\n",
       "      <td>129000.52</td>\n",
       "      <td>49.06</td>\n",
       "    </tr>\n",
       "    <tr>\n",
       "      <th>1</th>\n",
       "      <td>LR top25</td>\n",
       "      <td>0.32</td>\n",
       "      <td>133251.03</td>\n",
       "      <td>50.53</td>\n",
       "      <td>0.33</td>\n",
       "      <td>132291.73</td>\n",
       "      <td>50.61</td>\n",
       "    </tr>\n",
       "    <tr>\n",
       "      <th>2</th>\n",
       "      <td>PR top25</td>\n",
       "      <td>0.51</td>\n",
       "      <td>112013.87</td>\n",
       "      <td>39.90</td>\n",
       "      <td>0.51</td>\n",
       "      <td>110858.57</td>\n",
       "      <td>39.86</td>\n",
       "    </tr>\n",
       "    <tr>\n",
       "      <th>3</th>\n",
       "      <td>L1 Lasso</td>\n",
       "      <td>0.51</td>\n",
       "      <td>112011.25</td>\n",
       "      <td>39.89</td>\n",
       "      <td>0.51</td>\n",
       "      <td>110862.55</td>\n",
       "      <td>39.85</td>\n",
       "    </tr>\n",
       "    <tr>\n",
       "      <th>4</th>\n",
       "      <td>L2 Ridge</td>\n",
       "      <td>0.51</td>\n",
       "      <td>112126.20</td>\n",
       "      <td>39.95</td>\n",
       "      <td>0.51</td>\n",
       "      <td>110989.12</td>\n",
       "      <td>39.91</td>\n",
       "    </tr>\n",
       "    <tr>\n",
       "      <th>5</th>\n",
       "      <td>DT top25</td>\n",
       "      <td>1.00</td>\n",
       "      <td>573.35</td>\n",
       "      <td>0.18</td>\n",
       "      <td>0.69</td>\n",
       "      <td>67900.29</td>\n",
       "      <td>21.83</td>\n",
       "    </tr>\n",
       "    <tr>\n",
       "      <th>6</th>\n",
       "      <td>DT depth-10</td>\n",
       "      <td>0.68</td>\n",
       "      <td>87075.77</td>\n",
       "      <td>30.91</td>\n",
       "      <td>0.65</td>\n",
       "      <td>90287.72</td>\n",
       "      <td>31.94</td>\n",
       "    </tr>\n",
       "    <tr>\n",
       "      <th>7</th>\n",
       "      <td>RFR</td>\n",
       "      <td>0.71</td>\n",
       "      <td>83125.83</td>\n",
       "      <td>29.92</td>\n",
       "      <td>0.69</td>\n",
       "      <td>85465.74</td>\n",
       "      <td>30.79</td>\n",
       "    </tr>\n",
       "    <tr>\n",
       "      <th>8</th>\n",
       "      <td>AdaBoost</td>\n",
       "      <td>0.70</td>\n",
       "      <td>83611.88</td>\n",
       "      <td>30.03</td>\n",
       "      <td>0.68</td>\n",
       "      <td>86510.30</td>\n",
       "      <td>31.03</td>\n",
       "    </tr>\n",
       "    <tr>\n",
       "      <th>9</th>\n",
       "      <td>GBDT</td>\n",
       "      <td>0.83</td>\n",
       "      <td>63489.74</td>\n",
       "      <td>23.29</td>\n",
       "      <td>0.79</td>\n",
       "      <td>69399.37</td>\n",
       "      <td>25.13</td>\n",
       "    </tr>\n",
       "    <tr>\n",
       "      <th>10</th>\n",
       "      <td>Stacking</td>\n",
       "      <td>0.68</td>\n",
       "      <td>87280.01</td>\n",
       "      <td>31.01</td>\n",
       "      <td>0.66</td>\n",
       "      <td>89925.11</td>\n",
       "      <td>31.96</td>\n",
       "    </tr>\n",
       "    <tr>\n",
       "      <th>11</th>\n",
       "      <td>CatBoost top25</td>\n",
       "      <td>0.80</td>\n",
       "      <td>65496.33</td>\n",
       "      <td>21.69</td>\n",
       "      <td>0.79</td>\n",
       "      <td>66945.59</td>\n",
       "      <td>22.29</td>\n",
       "    </tr>\n",
       "    <tr>\n",
       "      <th>12</th>\n",
       "      <td>CatBoost full</td>\n",
       "      <td>0.82</td>\n",
       "      <td>63431.13</td>\n",
       "      <td>20.98</td>\n",
       "      <td>0.81</td>\n",
       "      <td>65037.30</td>\n",
       "      <td>21.66</td>\n",
       "    </tr>\n",
       "    <tr>\n",
       "      <th>13</th>\n",
       "      <td>CatBoost top10</td>\n",
       "      <td>0.81</td>\n",
       "      <td>65401.24</td>\n",
       "      <td>22.06</td>\n",
       "      <td>0.80</td>\n",
       "      <td>66840.64</td>\n",
       "      <td>22.67</td>\n",
       "    </tr>\n",
       "    <tr>\n",
       "      <th>14</th>\n",
       "      <td>XGBoost top10</td>\n",
       "      <td>0.81</td>\n",
       "      <td>64444.09</td>\n",
       "      <td>21.77</td>\n",
       "      <td>0.80</td>\n",
       "      <td>67128.55</td>\n",
       "      <td>22.75</td>\n",
       "    </tr>\n",
       "    <tr>\n",
       "      <th>15</th>\n",
       "      <td>GBDT top10</td>\n",
       "      <td>0.84</td>\n",
       "      <td>61501.27</td>\n",
       "      <td>22.99</td>\n",
       "      <td>0.79</td>\n",
       "      <td>68075.81</td>\n",
       "      <td>25.01</td>\n",
       "    </tr>\n",
       "    <tr>\n",
       "      <th>16</th>\n",
       "      <td>Stacking GBDT+cat+dt+RidgeCV &gt; xgb</td>\n",
       "      <td>0.86</td>\n",
       "      <td>55317.99</td>\n",
       "      <td>18.93</td>\n",
       "      <td>0.82</td>\n",
       "      <td>61840.63</td>\n",
       "      <td>20.79</td>\n",
       "    </tr>\n",
       "    <tr>\n",
       "      <th>17</th>\n",
       "      <td>DT+GridSearchCV</td>\n",
       "      <td>0.67</td>\n",
       "      <td>87731.11</td>\n",
       "      <td>31.09</td>\n",
       "      <td>0.65</td>\n",
       "      <td>90056.30</td>\n",
       "      <td>31.89</td>\n",
       "    </tr>\n",
       "    <tr>\n",
       "      <th>18</th>\n",
       "      <td>GBDT top10 + RandomizedSearchCV</td>\n",
       "      <td>0.95</td>\n",
       "      <td>33506.43</td>\n",
       "      <td>11.65</td>\n",
       "      <td>0.86</td>\n",
       "      <td>52776.61</td>\n",
       "      <td>17.37</td>\n",
       "    </tr>\n",
       "    <tr>\n",
       "      <th>19</th>\n",
       "      <td>XGBoost top10 + Optuna</td>\n",
       "      <td>0.94</td>\n",
       "      <td>36030.84</td>\n",
       "      <td>12.77</td>\n",
       "      <td>0.85</td>\n",
       "      <td>54910.78</td>\n",
       "      <td>18.51</td>\n",
       "    </tr>\n",
       "  </tbody>\n",
       "</table>\n",
       "</div>"
      ],
      "text/plain": [
       "                                 Model  Train R2_v2  Train MAE_v2  \\\n",
       "0                              LR full         0.35     129750.19   \n",
       "1                             LR top25         0.32     133251.03   \n",
       "2                             PR top25         0.51     112013.87   \n",
       "3                             L1 Lasso         0.51     112011.25   \n",
       "4                             L2 Ridge         0.51     112126.20   \n",
       "5                             DT top25         1.00        573.35   \n",
       "6                          DT depth-10         0.68      87075.77   \n",
       "7                                  RFR         0.71      83125.83   \n",
       "8                             AdaBoost         0.70      83611.88   \n",
       "9                                 GBDT         0.83      63489.74   \n",
       "10                            Stacking         0.68      87280.01   \n",
       "11                      CatBoost top25         0.80      65496.33   \n",
       "12                       CatBoost full         0.82      63431.13   \n",
       "13                      CatBoost top10         0.81      65401.24   \n",
       "14                       XGBoost top10         0.81      64444.09   \n",
       "15                          GBDT top10         0.84      61501.27   \n",
       "16  Stacking GBDT+cat+dt+RidgeCV > xgb         0.86      55317.99   \n",
       "17                     DT+GridSearchCV         0.67      87731.11   \n",
       "18     GBDT top10 + RandomizedSearchCV         0.95      33506.43   \n",
       "19              XGBoost top10 + Optuna         0.94      36030.84   \n",
       "\n",
       "    Train MAPE_v2  Test R2_v2  Test MAE_v2  Test MAPE_v2  \n",
       "0           48.88        0.36    129000.52         49.06  \n",
       "1           50.53        0.33    132291.73         50.61  \n",
       "2           39.90        0.51    110858.57         39.86  \n",
       "3           39.89        0.51    110862.55         39.85  \n",
       "4           39.95        0.51    110989.12         39.91  \n",
       "5            0.18        0.69     67900.29         21.83  \n",
       "6           30.91        0.65     90287.72         31.94  \n",
       "7           29.92        0.69     85465.74         30.79  \n",
       "8           30.03        0.68     86510.30         31.03  \n",
       "9           23.29        0.79     69399.37         25.13  \n",
       "10          31.01        0.66     89925.11         31.96  \n",
       "11          21.69        0.79     66945.59         22.29  \n",
       "12          20.98        0.81     65037.30         21.66  \n",
       "13          22.06        0.80     66840.64         22.67  \n",
       "14          21.77        0.80     67128.55         22.75  \n",
       "15          22.99        0.79     68075.81         25.01  \n",
       "16          18.93        0.82     61840.63         20.79  \n",
       "17          31.09        0.65     90056.30         31.89  \n",
       "18          11.65        0.86     52776.61         17.37  \n",
       "19          12.77        0.85     54910.78         18.51  "
      ]
     },
     "metadata": {},
     "output_type": "display_data"
    }
   ],
   "source": [
    "res_df = pd.DataFrame(\n",
    "    data = [s1, s2, s3, s4, s5, s6, s7, s8, s9, s10, s11, s12, s13, s14, s15, s16, s17, s18, s19, s20],\n",
    "    columns= ['Model', \n",
    "              'Train R2_v2', 'Train MAE_v2', 'Train MAPE_v2', \n",
    "              'Test R2_v2', 'Test MAE_v2', 'Test MAPE_v2']\n",
    ")\n",
    "display(res_df)"
   ]
  },
  {
   "cell_type": "code",
   "execution_count": 57,
   "metadata": {},
   "outputs": [],
   "source": [
    "# Выгрузим результат в отдельный файл:\n",
    "res_df.to_csv('data/models_results_short.csv', index = False)"
   ]
  },
  {
   "cell_type": "markdown",
   "metadata": {},
   "source": [
    "### Выводы представлены в основном файле [diplom_main_2.ipynb](https://github.com/veshua/diplom_sf/blob/main/diplom_main_2.ipynb)"
   ]
  }
 ],
 "metadata": {
  "kernelspec": {
   "display_name": "Python 3",
   "language": "python",
   "name": "python3"
  },
  "language_info": {
   "codemirror_mode": {
    "name": "ipython",
    "version": 3
   },
   "file_extension": ".py",
   "mimetype": "text/x-python",
   "name": "python",
   "nbconvert_exporter": "python",
   "pygments_lexer": "ipython3",
   "version": "3.12.7"
  },
  "orig_nbformat": 4
 },
 "nbformat": 4,
 "nbformat_minor": 2
}
